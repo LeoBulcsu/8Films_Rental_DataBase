{
 "cells": [
  {
   "cell_type": "code",
   "execution_count": 1,
   "id": "2cf5d2f4",
   "metadata": {},
   "outputs": [],
   "source": [
    "import pandas as pd"
   ]
  },
  {
   "cell_type": "code",
   "execution_count": 2,
   "id": "5e872555",
   "metadata": {},
   "outputs": [],
   "source": [
    "import numpy as np\n",
    "import warnings\n",
    "warnings.filterwarnings('ignore')\n",
    "import pylab as plt \n",
    "%matplotlib inline\n",
    "import seaborn as sns"
   ]
  },
  {
   "cell_type": "code",
   "execution_count": 3,
   "id": "d2e7a3da",
   "metadata": {},
   "outputs": [],
   "source": [
    "from functions import check_nan as ckna"
   ]
  },
  {
   "cell_type": "code",
   "execution_count": 4,
   "id": "0ac43d5b",
   "metadata": {},
   "outputs": [],
   "source": [
    "actors = pd.read_csv('../DATA/OLD/actor.csv')\n",
    "acdf = actors.copy()"
   ]
  },
  {
   "cell_type": "code",
   "execution_count": null,
   "id": "9db99269",
   "metadata": {},
   "outputs": [],
   "source": [
    "category = pd.read_csv('../DATA/OLD/category.csv')\n",
    "catdf = category.copy()"
   ]
  },
  {
   "cell_type": "code",
   "execution_count": null,
   "id": "298efbb8",
   "metadata": {},
   "outputs": [],
   "source": [
    "language = pd.read_csv('../DATA/OLD/language.csv')\n",
    "langdf = language.copy()"
   ]
  },
  {
   "cell_type": "code",
   "execution_count": null,
   "id": "574adead",
   "metadata": {},
   "outputs": [],
   "source": [
    "film = pd.read_csv('../DATA/OLD/film.csv')\n",
    "filmdf = film.copy()"
   ]
  },
  {
   "cell_type": "code",
   "execution_count": null,
   "id": "762df57e",
   "metadata": {},
   "outputs": [],
   "source": [
    "inventory = pd.read_csv('../DATA/OLD/inventory.csv')\n",
    "invdf = inventory.copy()"
   ]
  },
  {
   "cell_type": "code",
   "execution_count": null,
   "id": "67242c9a",
   "metadata": {},
   "outputs": [],
   "source": [
    "old_HDD = pd.read_csv('../DATA/OLD/old_HDD.csv')\n",
    "hdddf = old_HDD.copy()"
   ]
  },
  {
   "cell_type": "code",
   "execution_count": null,
   "id": "2e336e05",
   "metadata": {},
   "outputs": [],
   "source": [
    "rental = pd.read_csv('../DATA/OLD/rental.csv')\n",
    "rentdf = rental.copy()"
   ]
  },
  {
   "cell_type": "markdown",
   "id": "d6c0a8e4",
   "metadata": {},
   "source": [
    "We import all the \"most wanted\" libraries, needed for data cleaning. \n",
    "Also, I have imported the functions.py where I have pasted Yona's function to visualy check the Nulls in any Data Frame."
   ]
  },
  {
   "cell_type": "markdown",
   "id": "feafa8ed",
   "metadata": {},
   "source": [
    "We load all the .csv and name them to be able to take a look at what is inside and start making decisions.\n",
    "\n",
    "This process I have done it previously and for that reason, we are going to see each one of the .csv separated and with its previous cleaning, but the first thing that I have done has been to load them all and print the first and the last ones to see a little the type of data.\n",
    "\n",
    "We have a total of 7 data frames that correspond to: ACTORS, CATEGORY, MOVIE, INVENTORY, LANGUAGE, RENTAL AND ONE OLD one with info relevant to the people acting in the film, the title of the film, when it was released and the category.\n",
    "\n",
    "To create the database for the movie rental company I would like to play a bit with the data frames to be able to make more interesting relationships later.\n",
    "\n",
    "In particular, I would be interested in:\n",
    "\n",
    "- Film: improve the language-relevant columns. Currently, the original language column has no values and the rental language is English for all. It would be interesting to introduce values relevant to the languages in which you can watch the movie. Nowadays and with the DVD format you can choose the type of language. \n",
    "\n",
    "I would also like to be able to introduce two new columns with the info relevant to the category (category_ID) and the people acting (actor_id).\n",
    "\n",
    "- Rental: This is an important table and from a business point of view it should be fundamental. I would be interested in being able to offer the possibility to compare the rental day, the estimated delivery date, the actual delivery date and therefore if it was delivered late. The idea is to be able to then offer real data to the company about the customers, to know if they are reliable or not in the rentals and therefore reward those who are.\n",
    "\n",
    "- Inventory: I would like to add the number of movies in stock in this table. Currently, we have in this table, data on the store where it is located, but in addition to that it would be interesting to know how many copies of each movie there are in each store, to assure the customer who calls to ask availability, that it exists.\n",
    "\n",
    "- Old_HDD: I would like to add the actor_ID to each of the rows of information to facilitate the relationships between the different tables. This way we could create a relationship between movies and actors, many people want to see movies of certain actors only.\n",
    "\n",
    "    \n",
    "NEW TABLES: I think that, in the future, it could be interesting to create two new tables that could be very useful to manage '8Films'.\n",
    "\n",
    "- Customer: Basic to be able to have control of our customers. \n",
    "    We need:\n",
    "    - Customer_ID: identifier number.\n",
    "    - First_Name: First name.\n",
    "    - Last_Name: Last name.\n",
    "    - Address: Address.\n",
    "    - Joined_Date: member date.\n",
    "    - Cancelled_Date: member cancellation date.\n",
    "    - Credits: this video club will work with credits. 1 credit = 1 movie. In this section, you enter the credits that customers have.\n",
    "\n",
    "\n",
    "- Store: We need some info about the stores we have. In principle, we only have 2, but we need to catalogue them to know where the movies are and where to go to look for them in case someone calls us to ask for availability.\n"
   ]
  },
  {
   "cell_type": "code",
   "execution_count": 5,
   "id": "3db30111",
   "metadata": {
    "scrolled": true
   },
   "outputs": [
    {
     "data": {
      "text/html": [
       "<div>\n",
       "<style scoped>\n",
       "    .dataframe tbody tr th:only-of-type {\n",
       "        vertical-align: middle;\n",
       "    }\n",
       "\n",
       "    .dataframe tbody tr th {\n",
       "        vertical-align: top;\n",
       "    }\n",
       "\n",
       "    .dataframe thead th {\n",
       "        text-align: right;\n",
       "    }\n",
       "</style>\n",
       "<table border=\"1\" class=\"dataframe\">\n",
       "  <thead>\n",
       "    <tr style=\"text-align: right;\">\n",
       "      <th></th>\n",
       "      <th>actor_id</th>\n",
       "      <th>first_name</th>\n",
       "      <th>last_name</th>\n",
       "      <th>last_update</th>\n",
       "    </tr>\n",
       "  </thead>\n",
       "  <tbody>\n",
       "    <tr>\n",
       "      <th>0</th>\n",
       "      <td>1</td>\n",
       "      <td>PENELOPE</td>\n",
       "      <td>GUINESS</td>\n",
       "      <td>2006-02-15 04:34:33</td>\n",
       "    </tr>\n",
       "    <tr>\n",
       "      <th>1</th>\n",
       "      <td>2</td>\n",
       "      <td>NICK</td>\n",
       "      <td>WAHLBERG</td>\n",
       "      <td>2006-02-15 04:34:33</td>\n",
       "    </tr>\n",
       "    <tr>\n",
       "      <th>2</th>\n",
       "      <td>3</td>\n",
       "      <td>ED</td>\n",
       "      <td>CHASE</td>\n",
       "      <td>2006-02-15 04:34:33</td>\n",
       "    </tr>\n",
       "    <tr>\n",
       "      <th>3</th>\n",
       "      <td>4</td>\n",
       "      <td>JENNIFER</td>\n",
       "      <td>DAVIS</td>\n",
       "      <td>2006-02-15 04:34:33</td>\n",
       "    </tr>\n",
       "    <tr>\n",
       "      <th>4</th>\n",
       "      <td>5</td>\n",
       "      <td>JOHNNY</td>\n",
       "      <td>LOLLOBRIGIDA</td>\n",
       "      <td>2006-02-15 04:34:33</td>\n",
       "    </tr>\n",
       "  </tbody>\n",
       "</table>\n",
       "</div>"
      ],
      "text/plain": [
       "   actor_id first_name     last_name          last_update\n",
       "0         1   PENELOPE       GUINESS  2006-02-15 04:34:33\n",
       "1         2       NICK      WAHLBERG  2006-02-15 04:34:33\n",
       "2         3         ED         CHASE  2006-02-15 04:34:33\n",
       "3         4   JENNIFER         DAVIS  2006-02-15 04:34:33\n",
       "4         5     JOHNNY  LOLLOBRIGIDA  2006-02-15 04:34:33"
      ]
     },
     "execution_count": 5,
     "metadata": {},
     "output_type": "execute_result"
    }
   ],
   "source": [
    "acdf.head()"
   ]
  },
  {
   "cell_type": "code",
   "execution_count": 6,
   "id": "8a85eac4",
   "metadata": {},
   "outputs": [
    {
     "name": "stdout",
     "output_type": "stream",
     "text": [
      "<class 'pandas.core.frame.DataFrame'>\n",
      "RangeIndex: 200 entries, 0 to 199\n",
      "Data columns (total 4 columns):\n",
      " #   Column       Non-Null Count  Dtype \n",
      "---  ------       --------------  ----- \n",
      " 0   actor_id     200 non-null    int64 \n",
      " 1   first_name   200 non-null    object\n",
      " 2   last_name    200 non-null    object\n",
      " 3   last_update  200 non-null    object\n",
      "dtypes: int64(1), object(3)\n",
      "memory usage: 6.4+ KB\n"
     ]
    }
   ],
   "source": [
    "acdf.info()"
   ]
  },
  {
   "cell_type": "code",
   "execution_count": 7,
   "id": "11d9ecd0",
   "metadata": {},
   "outputs": [],
   "source": [
    "new_actor_row = pd.DataFrame({'actor_id': [0], 'first_name': ['Miguel'], 'last_name':['Cuadros'], 'last_update': ['2006-02-15 04:34:33']})"
   ]
  },
  {
   "cell_type": "code",
   "execution_count": 8,
   "id": "e339eaac",
   "metadata": {},
   "outputs": [
    {
     "data": {
      "text/html": [
       "<div>\n",
       "<style scoped>\n",
       "    .dataframe tbody tr th:only-of-type {\n",
       "        vertical-align: middle;\n",
       "    }\n",
       "\n",
       "    .dataframe tbody tr th {\n",
       "        vertical-align: top;\n",
       "    }\n",
       "\n",
       "    .dataframe thead th {\n",
       "        text-align: right;\n",
       "    }\n",
       "</style>\n",
       "<table border=\"1\" class=\"dataframe\">\n",
       "  <thead>\n",
       "    <tr style=\"text-align: right;\">\n",
       "      <th></th>\n",
       "      <th>actor_id</th>\n",
       "      <th>first_name</th>\n",
       "      <th>last_name</th>\n",
       "      <th>last_update</th>\n",
       "    </tr>\n",
       "  </thead>\n",
       "  <tbody>\n",
       "    <tr>\n",
       "      <th>0</th>\n",
       "      <td>1</td>\n",
       "      <td>PENELOPE</td>\n",
       "      <td>GUINESS</td>\n",
       "      <td>2006-02-15 04:34:33</td>\n",
       "    </tr>\n",
       "    <tr>\n",
       "      <th>1</th>\n",
       "      <td>2</td>\n",
       "      <td>NICK</td>\n",
       "      <td>WAHLBERG</td>\n",
       "      <td>2006-02-15 04:34:33</td>\n",
       "    </tr>\n",
       "    <tr>\n",
       "      <th>2</th>\n",
       "      <td>3</td>\n",
       "      <td>ED</td>\n",
       "      <td>CHASE</td>\n",
       "      <td>2006-02-15 04:34:33</td>\n",
       "    </tr>\n",
       "    <tr>\n",
       "      <th>3</th>\n",
       "      <td>4</td>\n",
       "      <td>JENNIFER</td>\n",
       "      <td>DAVIS</td>\n",
       "      <td>2006-02-15 04:34:33</td>\n",
       "    </tr>\n",
       "    <tr>\n",
       "      <th>4</th>\n",
       "      <td>5</td>\n",
       "      <td>JOHNNY</td>\n",
       "      <td>LOLLOBRIGIDA</td>\n",
       "      <td>2006-02-15 04:34:33</td>\n",
       "    </tr>\n",
       "    <tr>\n",
       "      <th>...</th>\n",
       "      <td>...</td>\n",
       "      <td>...</td>\n",
       "      <td>...</td>\n",
       "      <td>...</td>\n",
       "    </tr>\n",
       "    <tr>\n",
       "      <th>196</th>\n",
       "      <td>197</td>\n",
       "      <td>REESE</td>\n",
       "      <td>WEST</td>\n",
       "      <td>2006-02-15 04:34:33</td>\n",
       "    </tr>\n",
       "    <tr>\n",
       "      <th>197</th>\n",
       "      <td>198</td>\n",
       "      <td>MARY</td>\n",
       "      <td>KEITEL</td>\n",
       "      <td>2006-02-15 04:34:33</td>\n",
       "    </tr>\n",
       "    <tr>\n",
       "      <th>198</th>\n",
       "      <td>199</td>\n",
       "      <td>JULIA</td>\n",
       "      <td>FAWCETT</td>\n",
       "      <td>2006-02-15 04:34:33</td>\n",
       "    </tr>\n",
       "    <tr>\n",
       "      <th>199</th>\n",
       "      <td>200</td>\n",
       "      <td>THORA</td>\n",
       "      <td>TEMPLE</td>\n",
       "      <td>2006-02-15 04:34:33</td>\n",
       "    </tr>\n",
       "    <tr>\n",
       "      <th>200</th>\n",
       "      <td>0</td>\n",
       "      <td>Miguel</td>\n",
       "      <td>Cuadros</td>\n",
       "      <td>2006-02-15 04:34:33</td>\n",
       "    </tr>\n",
       "  </tbody>\n",
       "</table>\n",
       "<p>201 rows × 4 columns</p>\n",
       "</div>"
      ],
      "text/plain": [
       "     actor_id first_name     last_name          last_update\n",
       "0           1   PENELOPE       GUINESS  2006-02-15 04:34:33\n",
       "1           2       NICK      WAHLBERG  2006-02-15 04:34:33\n",
       "2           3         ED         CHASE  2006-02-15 04:34:33\n",
       "3           4   JENNIFER         DAVIS  2006-02-15 04:34:33\n",
       "4           5     JOHNNY  LOLLOBRIGIDA  2006-02-15 04:34:33\n",
       "..        ...        ...           ...                  ...\n",
       "196       197      REESE          WEST  2006-02-15 04:34:33\n",
       "197       198       MARY        KEITEL  2006-02-15 04:34:33\n",
       "198       199      JULIA       FAWCETT  2006-02-15 04:34:33\n",
       "199       200      THORA        TEMPLE  2006-02-15 04:34:33\n",
       "200         0     Miguel       Cuadros  2006-02-15 04:34:33\n",
       "\n",
       "[201 rows x 4 columns]"
      ]
     },
     "execution_count": 8,
     "metadata": {},
     "output_type": "execute_result"
    }
   ],
   "source": [
    "acdf = pd.concat([acdf, new_actor_row], ignore_index=True)\n",
    "acdf"
   ]
  },
  {
   "cell_type": "code",
   "execution_count": 9,
   "id": "62234988",
   "metadata": {},
   "outputs": [
    {
     "name": "stdout",
     "output_type": "stream",
     "text": [
      "N nan cols: 0\n",
      "Series([], dtype: float64)\n"
     ]
    },
    {
     "data": {
      "image/png": "[encoded data removed]",
      "text/plain": [
       "<Figure size 1000x600 with 1 Axes>"
      ]
     },
     "metadata": {},
     "output_type": "display_data"
    }
   ],
   "source": [
    "ckna(acdf)"
   ]
  },
  {
   "cell_type": "code",
   "execution_count": 10,
   "id": "618a9a19",
   "metadata": {},
   "outputs": [],
   "source": [
    "new_acdf = acdf.drop_duplicates()"
   ]
  },
  {
   "cell_type": "markdown",
   "id": "5395471d",
   "metadata": {},
   "source": [
    "From actors table there should be not much to clean or even do. It seems there are not nulls so I don't believe we should much for now. Lets jump to the next table: Category."
   ]
  },
  {
   "cell_type": "code",
   "execution_count": null,
   "id": "b8757e87",
   "metadata": {},
   "outputs": [],
   "source": [
    "catdf.head()"
   ]
  },
  {
   "cell_type": "code",
   "execution_count": null,
   "id": "92725603",
   "metadata": {},
   "outputs": [],
   "source": [
    "catdf.info()"
   ]
  },
  {
   "cell_type": "code",
   "execution_count": null,
   "id": "04f25a60",
   "metadata": {},
   "outputs": [],
   "source": [
    "catdf.value_counts()    #I do this to check that there are not duplicated entries."
   ]
  },
  {
   "cell_type": "code",
   "execution_count": null,
   "id": "23b4e97a",
   "metadata": {},
   "outputs": [],
   "source": [
    "ckna(catdf)"
   ]
  },
  {
   "cell_type": "code",
   "execution_count": null,
   "id": "66abc7df",
   "metadata": {},
   "outputs": [],
   "source": [
    "new_catdf = catdf.drop_duplicates()"
   ]
  },
  {
   "cell_type": "code",
   "execution_count": null,
   "id": "11afc1c4",
   "metadata": {},
   "outputs": [],
   "source": [
    "new_catdf.shape"
   ]
  },
  {
   "cell_type": "markdown",
   "id": "fde697e7",
   "metadata": {},
   "source": [
    "Categories dataset seems to be also quite clean, so once again we can skip to the next table. \n",
    "On a side note, I would like to check if the data frame which covers the films could have the category_ID so I can link it to this one in the future.\n",
    "\n",
    "Next table: languages!"
   ]
  },
  {
   "cell_type": "code",
   "execution_count": null,
   "id": "e6409680",
   "metadata": {},
   "outputs": [],
   "source": [
    "langdf.head()"
   ]
  },
  {
   "cell_type": "code",
   "execution_count": null,
   "id": "11833f91",
   "metadata": {},
   "outputs": [],
   "source": [
    "langdf.info()"
   ]
  },
  {
   "cell_type": "code",
   "execution_count": null,
   "id": "f7888c0a",
   "metadata": {},
   "outputs": [],
   "source": [
    "langdf.value_counts()"
   ]
  },
  {
   "cell_type": "markdown",
   "id": "0126b87a",
   "metadata": {},
   "source": [
    "Perhaps it could be useful to add some more rows regarding more langauges, such as:\n",
    "- Spanish: language_id: 7 \n",
    "- Korean: language_id: 8\n",
    "- Indian: language_id: 9"
   ]
  },
  {
   "cell_type": "code",
   "execution_count": null,
   "id": "6be8dac5",
   "metadata": {},
   "outputs": [],
   "source": [
    "from datetime import datetime\n",
    "now = datetime.now()\n",
    "current_time = now.strftime('%Y-%m-%d %H:%M:%S')"
   ]
  },
  {
   "cell_type": "code",
   "execution_count": null,
   "id": "8a2b82e1",
   "metadata": {},
   "outputs": [],
   "source": [
    "new_rows = pd.DataFrame({'language_id': [7, 8, 9, 10, 0], 'name': ['Spanish', 'Portuguese', 'Korean', 'Indian', 'unknown'], 'last_update': [current_time, current_time, current_time, current_time, current_time]})"
   ]
  },
  {
   "cell_type": "code",
   "execution_count": null,
   "id": "ecfc9752",
   "metadata": {},
   "outputs": [],
   "source": [
    "new_rows"
   ]
  },
  {
   "cell_type": "code",
   "execution_count": null,
   "id": "12c277cc",
   "metadata": {},
   "outputs": [],
   "source": [
    "newlangdf = pd.concat([langdf, new_rows], ignore_index=True)\n",
    "newlangdf"
   ]
  },
  {
   "cell_type": "code",
   "execution_count": null,
   "id": "05682fbd",
   "metadata": {},
   "outputs": [],
   "source": [
    "ckna(newlangdf)"
   ]
  },
  {
   "cell_type": "markdown",
   "id": "1ba012c2",
   "metadata": {},
   "source": [
    "Let's check now those dataframes where I want to do some changes.\n",
    "As a little reminder:\n",
    "\n",
    "- Film: improve the language-relevant columns. Currently, the original language column has no values and the rental language is English for all. It would be interesting to introduce values relevant to the languages in which you can watch the movie. Nowadays and with the DVD format you can choose the type of language. \n",
    "\n",
    "  I would also like to be able to introduce two new columns with the info relevant to the category (category_ID) and the people acting (actor_id)."
   ]
  },
  {
   "cell_type": "code",
   "execution_count": null,
   "id": "9953c7e5",
   "metadata": {},
   "outputs": [],
   "source": [
    "filmdf.head()"
   ]
  },
  {
   "cell_type": "code",
   "execution_count": null,
   "id": "00a32d00",
   "metadata": {},
   "outputs": [],
   "source": [
    "filmdf.info()"
   ]
  },
  {
   "cell_type": "code",
   "execution_count": null,
   "id": "b4cb304b",
   "metadata": {},
   "outputs": [],
   "source": [
    "ckna(filmdf)"
   ]
  },
  {
   "cell_type": "code",
   "execution_count": null,
   "id": "fb391dee",
   "metadata": {},
   "outputs": [],
   "source": [
    "filmdf = filmdf.fillna(1)   #en otro mundo hubiera pillado la info relevante al pais de la peli para poner el idioma pero como no tengo esa info y las pelis son inventadas pues pongo el mismo idioma."
   ]
  },
  {
   "cell_type": "code",
   "execution_count": null,
   "id": "17ba9de4",
   "metadata": {},
   "outputs": [],
   "source": [
    "categorydf = pd.merge(filmdf, hdddf, on='title', how='left')"
   ]
  },
  {
   "cell_type": "code",
   "execution_count": null,
   "id": "4ff9cbd1",
   "metadata": {},
   "outputs": [],
   "source": [
    "categorycolumn = categorydf['category_id']\n",
    "categorycolumn\n",
    "filmdf['category_id'] = categorycolumn"
   ]
  },
  {
   "cell_type": "code",
   "execution_count": null,
   "id": "a325f1bd",
   "metadata": {},
   "outputs": [],
   "source": [
    "filmdf.head()"
   ]
  },
  {
   "cell_type": "markdown",
   "id": "4f93db66",
   "metadata": {},
   "source": [
    "As we can see, my new columns work but the values have a float type that I am not keen on, so I am going to change them into int64."
   ]
  },
  {
   "cell_type": "code",
   "execution_count": null,
   "id": "e3841bc9",
   "metadata": {},
   "outputs": [],
   "source": [
    "filmdf.dtypes"
   ]
  },
  {
   "cell_type": "code",
   "execution_count": null,
   "id": "04bc38f5",
   "metadata": {},
   "outputs": [],
   "source": [
    "filmdf['original_language_id'] = filmdf.original_language_id.astype('int64')"
   ]
  },
  {
   "cell_type": "code",
   "execution_count": null,
   "id": "038269e5",
   "metadata": {},
   "outputs": [],
   "source": [
    "filmdf = filmdf.fillna(0)"
   ]
  },
  {
   "cell_type": "code",
   "execution_count": null,
   "id": "cbc27e3f",
   "metadata": {},
   "outputs": [],
   "source": [
    "filmdf['category_id'] = filmdf.category_id.astype('int64')"
   ]
  },
  {
   "cell_type": "code",
   "execution_count": null,
   "id": "37fc73cf",
   "metadata": {},
   "outputs": [],
   "source": [
    "filmdf.head()"
   ]
  },
  {
   "cell_type": "markdown",
   "id": "4707c225",
   "metadata": {},
   "source": [
    "Next data frame is INVENTORY:"
   ]
  },
  {
   "cell_type": "code",
   "execution_count": null,
   "id": "5a03c317",
   "metadata": {},
   "outputs": [],
   "source": [
    "invdf.head()"
   ]
  },
  {
   "cell_type": "code",
   "execution_count": null,
   "id": "31b07121",
   "metadata": {},
   "outputs": [],
   "source": [
    "invdf.store_id.unique()"
   ]
  },
  {
   "cell_type": "code",
   "execution_count": null,
   "id": "7eb235c1",
   "metadata": {},
   "outputs": [],
   "source": [
    "len(invdf.inventory_id.unique())"
   ]
  },
  {
   "cell_type": "code",
   "execution_count": null,
   "id": "7f54bbb3",
   "metadata": {},
   "outputs": [],
   "source": [
    "len(invdf.film_id.unique())"
   ]
  },
  {
   "cell_type": "markdown",
   "id": "cde1fa08",
   "metadata": {},
   "source": [
    "We can see the movies in each store and therefore we can check how many there are and where to find them.\n",
    "\n",
    "As we can see, there are only two store IDs so I am going to take into consideration that there are two stores and that this table would help me check if there are any available copies in case someone asks.\n",
    "\n",
    "Alse we see that there are a total of 1000 movies in the videoclub, well, being honest there are 1000 copies. Because individual movies there are only 207 movies."
   ]
  },
  {
   "cell_type": "code",
   "execution_count": null,
   "id": "895640fc",
   "metadata": {},
   "outputs": [],
   "source": [
    "invdf.groupby(['film_id', 'store_id']).count()['inventory_id'] #whith a simple groupby I can check the amount of copies of each film in each store."
   ]
  },
  {
   "cell_type": "code",
   "execution_count": null,
   "id": "866649d3",
   "metadata": {},
   "outputs": [],
   "source": [
    "newinventorydf = invdf.drop_duplicates()"
   ]
  },
  {
   "cell_type": "code",
   "execution_count": null,
   "id": "4a105edc",
   "metadata": {},
   "outputs": [],
   "source": [
    "ckna(newinventorydf)"
   ]
  },
  {
   "cell_type": "markdown",
   "id": "4ad56485",
   "metadata": {},
   "source": [
    "Let's have a look at the old database:\n",
    "OLD_HDD is a table with some info regarding movies and the actors that played the part. "
   ]
  },
  {
   "cell_type": "code",
   "execution_count": null,
   "id": "e4c1a11c",
   "metadata": {},
   "outputs": [],
   "source": [
    "hdddf.head()"
   ]
  },
  {
   "cell_type": "markdown",
   "id": "4e95407c",
   "metadata": {},
   "source": [
    "It comes with the movie title and it's category. It could be usefull to add a new column with the actor_id so I can link it to the film table and therefore I can have the list of actors and their movies."
   ]
  },
  {
   "cell_type": "code",
   "execution_count": null,
   "id": "f054bbcd",
   "metadata": {},
   "outputs": [],
   "source": [
    "hdddf['name'] = hdddf[['first_name', 'last_name']].agg(' '.join, axis=1)\n",
    "hdddf.head()"
   ]
  },
  {
   "cell_type": "code",
   "execution_count": null,
   "id": "08bc02ec",
   "metadata": {},
   "outputs": [],
   "source": [
    "acdf['name'] = acdf[['first_name', 'last_name']].agg(' '.join, axis=1)\n",
    "acdf.head()"
   ]
  },
  {
   "cell_type": "code",
   "execution_count": null,
   "id": "14c9baa4",
   "metadata": {},
   "outputs": [],
   "source": [
    "actorshdd = pd.merge(hdddf, acdf, on='name', how='left')\n",
    "actorshdd.head()"
   ]
  },
  {
   "cell_type": "code",
   "execution_count": null,
   "id": "d79ecf4c",
   "metadata": {},
   "outputs": [],
   "source": [
    "hdddf['actor_id'] = actorshdd['actor_id']\n",
    "hdddf.head()"
   ]
  },
  {
   "cell_type": "markdown",
   "id": "6cc59c6c",
   "metadata": {},
   "source": [
    "This way I can link it now to the film table and add the actor ID. Why? Because sometimes people wants to watch movies from an actor who they like."
   ]
  },
  {
   "cell_type": "code",
   "execution_count": null,
   "id": "f06253a9",
   "metadata": {},
   "outputs": [],
   "source": [
    "actorID = pd.merge(filmdf, hdddf, on='title', how='left')\n",
    "actorID.head()"
   ]
  },
  {
   "cell_type": "code",
   "execution_count": null,
   "id": "28279042",
   "metadata": {},
   "outputs": [],
   "source": [
    "filmdf['actor_id'] = actorID['actor_id']\n",
    "filmdf.head()"
   ]
  },
  {
   "cell_type": "code",
   "execution_count": null,
   "id": "81b11524",
   "metadata": {},
   "outputs": [],
   "source": [
    "filmdf['actor_id']=filmdf.actor_id.fillna(0)\n",
    "filmdf['actor_id'] = filmdf.actor_id.astype('int64')\n",
    "filmdf.info()"
   ]
  },
  {
   "cell_type": "code",
   "execution_count": null,
   "id": "2e92c44b",
   "metadata": {},
   "outputs": [],
   "source": [
    "new_filmdf = filmdf.drop_duplicates()"
   ]
  },
  {
   "cell_type": "markdown",
   "id": "046377e9",
   "metadata": {},
   "source": [
    "We can check now if the hdddf has any Null values and if there are any duplicates and if it is ok we can export it at the end."
   ]
  },
  {
   "cell_type": "code",
   "execution_count": null,
   "id": "e3a5f3d3",
   "metadata": {},
   "outputs": [],
   "source": [
    "new_hdddf = hdddf.drop_duplicates()"
   ]
  },
  {
   "cell_type": "code",
   "execution_count": null,
   "id": "88f917b4",
   "metadata": {},
   "outputs": [],
   "source": [
    "ckna(new_hdddf)"
   ]
  },
  {
   "cell_type": "markdown",
   "id": "9f7d6983",
   "metadata": {},
   "source": [
    "Let's have a look at the rental table before creating our customer, store and staff tables."
   ]
  },
  {
   "cell_type": "code",
   "execution_count": null,
   "id": "d278e62d",
   "metadata": {},
   "outputs": [],
   "source": [
    "rentdf.head()"
   ]
  },
  {
   "cell_type": "markdown",
   "id": "a469de29",
   "metadata": {},
   "source": [
    "As we can see, there is a rentalID which gives us a code to retrieve, a rental date and a return date, the inventoryID to see the direct copy of the movie the customer took home, the customer who took it and the last time it was updated.\n",
    "\n",
    "This table works as an invoice for any other store, you have the client, the product, the when, where and who assisted. It could be cool if this table could help to check whose client are more or less inclined to return the movies late. Let's say for the shake of it, that we have a return policy or 3 days. Anybody who returns the movie after those first three days would be late and therefore can be labeled as such."
   ]
  },
  {
   "cell_type": "code",
   "execution_count": null,
   "id": "fd8906e5",
   "metadata": {},
   "outputs": [],
   "source": [
    "rentdf = rentdf.reindex(columns=['rental_id', 'inventory_id', 'customer_id', 'staff_id','rental_date','return_date','last_update'])\n",
    "rentdf.head()\n"
   ]
  },
  {
   "cell_type": "code",
   "execution_count": null,
   "id": "c6093d39",
   "metadata": {},
   "outputs": [],
   "source": [
    "rentdf['rental_date'] = pd.to_datetime(rentdf['rental_date'])\n",
    "rentdf['return_date'] = pd.to_datetime(rentdf['return_date'])\n"
   ]
  },
  {
   "cell_type": "code",
   "execution_count": null,
   "id": "21940aa0",
   "metadata": {},
   "outputs": [],
   "source": [
    "rentdf['rental_time'] = rentdf.rental_date.dt.time\n",
    "rentdf['rental_date'] = rentdf.rental_date.dt.date\n",
    "rentdf.head()"
   ]
  },
  {
   "cell_type": "code",
   "execution_count": null,
   "id": "25c02cac",
   "metadata": {},
   "outputs": [],
   "source": [
    "rentdf['return_time'] = rentdf.return_date.dt.time\n",
    "rentdf['return_date'] = rentdf.return_date.dt.date\n",
    "rentdf.head()"
   ]
  },
  {
   "cell_type": "code",
   "execution_count": null,
   "id": "617cca4b",
   "metadata": {},
   "outputs": [],
   "source": [
    "rentdf = rentdf.reindex(columns=['rental_id', 'inventory_id', 'customer_id', 'staff_id','rental_date','rental_time','return_date','return_time','last_update'])\n",
    "rentdf.head()"
   ]
  },
  {
   "cell_type": "markdown",
   "id": "772a2155",
   "metadata": {},
   "source": [
    "There is something bothering me here. If you check the inventory_id, it looks quite odd the fact that you have id numbers over 1000 when we already checked the inventory files and it only has about a thousand inventory IDs. I think this must be wrong and for the shake of the exercise I am going to change those in order to match the inventory table."
   ]
  },
  {
   "cell_type": "code",
   "execution_count": null,
   "id": "15ea278c",
   "metadata": {},
   "outputs": [],
   "source": [
    "import random\n",
    "def inventory_change(inventoryID):\n",
    "    return random.randint(1,1000)\n",
    "    "
   ]
  },
  {
   "cell_type": "code",
   "execution_count": null,
   "id": "92365081",
   "metadata": {},
   "outputs": [],
   "source": [
    "rentdf['inventory_id'] = rentdf.inventory_id.apply(inventory_change)\n",
    "rentdf.head()"
   ]
  },
  {
   "cell_type": "markdown",
   "id": "aa28c734",
   "metadata": {},
   "source": [
    "And I am going to do the same with the customers ID column. I will create later on the tables relating to the customers, staff and stores but I can start limiting the amount of customers I have between the two stores by a 100."
   ]
  },
  {
   "cell_type": "code",
   "execution_count": null,
   "id": "06abfad3",
   "metadata": {},
   "outputs": [],
   "source": [
    "def customer_change(customerID):\n",
    "    return random.randint(1,100)"
   ]
  },
  {
   "cell_type": "code",
   "execution_count": null,
   "id": "c1dc1221",
   "metadata": {},
   "outputs": [],
   "source": [
    "rentdf['customer_id'] = rentdf.inventory_id.apply(customer_change)\n",
    "rentdf.head()"
   ]
  },
  {
   "cell_type": "code",
   "execution_count": null,
   "id": "b05049a4",
   "metadata": {},
   "outputs": [],
   "source": [
    "rentdf.shape"
   ]
  },
  {
   "cell_type": "code",
   "execution_count": null,
   "id": "8c677e6d",
   "metadata": {},
   "outputs": [],
   "source": [
    "new_rentdf = rentdf.drop_duplicates()"
   ]
  },
  {
   "cell_type": "markdown",
   "id": "19ac2915",
   "metadata": {},
   "source": [
    "My rental table is complete, so now the last things to do are to create the tables regarding: clients, staff and stores.\n",
    "\n",
    "I am going to start with the stores table, it is the simplest out of the three and also it is good as practice."
   ]
  },
  {
   "cell_type": "code",
   "execution_count": null,
   "id": "ab8b3033",
   "metadata": {},
   "outputs": [],
   "source": [
    "stores={'Store_ID': [1,2], 'Address': ['C/ de Hortaleza, 69, 28004 Madrid','C/ de García de Paredes, 33, 28010 Madrid'], 'Phone':[666666666,888888888], 'email':['8filmshortaleza@8films.com','8filmsparedes@8films.com']}\n",
    "\n",
    "storesdf = pd.DataFrame(stores)\n",
    "storesdf.head()"
   ]
  },
  {
   "cell_type": "markdown",
   "id": "9d8afa94",
   "metadata": {},
   "source": [
    "It looks ok and for now, this will help to create a new link in our database. \n",
    "\n",
    "Let's continue with the tables regarding staff and customers. For the staff I am only going to hire 4 people, 2 for each store. And for that I am going to use a library that some colleagues have found: Faker."
   ]
  },
  {
   "cell_type": "code",
   "execution_count": null,
   "id": "32110d2d",
   "metadata": {},
   "outputs": [],
   "source": [
    "from faker import Faker"
   ]
  },
  {
   "cell_type": "code",
   "execution_count": null,
   "id": "4c5b4711",
   "metadata": {},
   "outputs": [],
   "source": [
    "def random_staff(num_staff):\n",
    "    fake = Faker()\n",
    "    domain = \"8films.com\"\n",
    "    staff = []\n",
    "\n",
    "    \n",
    "    for i in range(num_staff):\n",
    "        staff_id = i\n",
    "        full_name = fake.name()\n",
    "        surname, name = full_name.split(\" \")\n",
    "        address = fake.address()\n",
    "        phone = fake.phone_number()\n",
    "        email = f\"{name.replace(' ', '.')}@{domain}\"\n",
    "        staff.append({\"staff_id\": staff_id, \"name\": name, \"surname\": surname, \"address\": address, \"phone\": phone, \"email\": email})\n",
    "    \n",
    "    return staff\n",
    "\n",
    "staff = random_staff(4)\n",
    "\n",
    "staff"
   ]
  },
  {
   "cell_type": "code",
   "execution_count": null,
   "id": "4adf5043",
   "metadata": {},
   "outputs": [],
   "source": [
    "staffdf = pd.DataFrame(staff)\n",
    "staffdf"
   ]
  },
  {
   "cell_type": "markdown",
   "id": "966788e3",
   "metadata": {},
   "source": [
    "And here we have our amazingly willing staff members.\n",
    "\n",
    "Lets get some clients, shall we?"
   ]
  },
  {
   "cell_type": "code",
   "execution_count": null,
   "id": "fd6c2e89",
   "metadata": {},
   "outputs": [],
   "source": [
    "def random_customers(num_customers):\n",
    "    fake = Faker()\n",
    "    domain = \"gmail.com\"\n",
    "    customers = []\n",
    "    \n",
    "    for i in range(num_customers):\n",
    "        id = i\n",
    "        full_name = fake.name()\n",
    "        address = fake.address()\n",
    "        phone = fake.phone_number()\n",
    "        email = f\"{full_name.replace(' ', '.')}@{domain}\"\n",
    "        customers.append({\"customer_id\": id, \"name\": full_name, \"address\": address, \"phone\": phone, \"email\": email})\n",
    "    \n",
    "    return customers\n",
    "\n",
    "customers = random_customers(100)"
   ]
  },
  {
   "cell_type": "code",
   "execution_count": null,
   "id": "99976e6a",
   "metadata": {},
   "outputs": [],
   "source": [
    "customersdf = pd.DataFrame(customers)\n",
    "customersdf.head()"
   ]
  },
  {
   "cell_type": "markdown",
   "id": "4fd3b42e",
   "metadata": {},
   "source": [
    "Now we can export our new tables one by one and import those into MySQL Workbench."
   ]
  },
  {
   "cell_type": "code",
   "execution_count": 11,
   "id": "d86789ac",
   "metadata": {},
   "outputs": [],
   "source": [
    "new_acdf.to_csv('../DATA/CLEAN/clean_actors.csv')"
   ]
  },
  {
   "cell_type": "code",
   "execution_count": null,
   "id": "c911110b",
   "metadata": {},
   "outputs": [],
   "source": [
    "new_catdf.to_csv('../DATA/CLEAN/clean_catalogue.csv')"
   ]
  },
  {
   "cell_type": "code",
   "execution_count": null,
   "id": "4ecdccab",
   "metadata": {},
   "outputs": [],
   "source": [
    "newlangdf.to_csv('../DATA/CLEAN/clean_language.csv')"
   ]
  },
  {
   "cell_type": "code",
   "execution_count": null,
   "id": "238842bf",
   "metadata": {},
   "outputs": [],
   "source": [
    "newinventorydf.to_csv('../DATA/CLEAN/clean_inventory.csv')"
   ]
  },
  {
   "cell_type": "code",
   "execution_count": null,
   "id": "e63e3438",
   "metadata": {},
   "outputs": [],
   "source": [
    "new_hdddf.to_csv('../DATA/CLEAN/clean_hdddf.csv')"
   ]
  },
  {
   "cell_type": "code",
   "execution_count": null,
   "id": "35f116cd",
   "metadata": {},
   "outputs": [],
   "source": [
    "new_filmdf.to_csv('../DATA/CLEAN/clean_films.csv')"
   ]
  },
  {
   "cell_type": "code",
   "execution_count": null,
   "id": "547051d8",
   "metadata": {},
   "outputs": [],
   "source": [
    "new_rentdf.to_csv('../DATA/CLEAN/clean_rental.csv')"
   ]
  },
  {
   "cell_type": "code",
   "execution_count": null,
   "id": "fcbe47a6",
   "metadata": {},
   "outputs": [],
   "source": [
    "storesdf.to_csv('../DATA/CLEAN/clean_stores.csv')"
   ]
  },
  {
   "cell_type": "code",
   "execution_count": null,
   "id": "7dceea9f",
   "metadata": {},
   "outputs": [],
   "source": [
    "staffdf.to_csv('../DATA/CLEAN/clean_staff.csv')"
   ]
  },
  {
   "cell_type": "code",
   "execution_count": null,
   "id": "1f539185",
   "metadata": {},
   "outputs": [],
   "source": [
    "customersdf.to_csv('../DATA/CLEAN/clean_customers.csv')"
   ]
  }
 ],
 "metadata": {
  "kernelspec": {
   "display_name": "clase",
   "language": "python",
   "name": "python3"
  },
  "language_info": {
   "codemirror_mode": {
    "name": "ipython",
    "version": 3
   },
   "file_extension": ".py",
   "mimetype": "text/x-python",
   "name": "python",
   "nbconvert_exporter": "python",
   "pygments_lexer": "ipython3",
   "version": "3.10.13"
  }
 },
 "nbformat": 4,
 "nbformat_minor": 5
}

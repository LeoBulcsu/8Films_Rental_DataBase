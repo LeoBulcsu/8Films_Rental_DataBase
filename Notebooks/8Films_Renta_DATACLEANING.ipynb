{
 "cells": [
  {
   "cell_type": "code",
   "execution_count": 1,
   "id": "2cf5d2f4",
   "metadata": {},
   "outputs": [],
   "source": [
    "import pandas as pd"
   ]
  },
  {
   "cell_type": "code",
   "execution_count": 2,
   "id": "5e872555",
   "metadata": {},
   "outputs": [],
   "source": [
    "import numpy as np\n",
    "import warnings\n",
    "warnings.filterwarnings('ignore')\n",
    "import pylab as plt \n",
    "%matplotlib inline\n",
    "import seaborn as sns"
   ]
  },
  {
   "cell_type": "code",
   "execution_count": 3,
   "id": "d2e7a3da",
   "metadata": {},
   "outputs": [],
   "source": [
    "from functions import check_nan as ckna"
   ]
  },
  {
   "cell_type": "code",
   "execution_count": 4,
   "id": "0ac43d5b",
   "metadata": {},
   "outputs": [],
   "source": [
    "actors = pd.read_csv('../DATA/OLD/actor.csv')\n",
    "acdf = actors.copy()"
   ]
  },
  {
   "cell_type": "code",
   "execution_count": 5,
   "id": "9db99269",
   "metadata": {},
   "outputs": [],
   "source": [
    "category = pd.read_csv('../DATA/OLD/category.csv')\n",
    "catdf = category.copy()"
   ]
  },
  {
   "cell_type": "code",
   "execution_count": 6,
   "id": "298efbb8",
   "metadata": {},
   "outputs": [],
   "source": [
    "language = pd.read_csv('../DATA/OLD/language.csv')\n",
    "langdf = language.copy()"
   ]
  },
  {
   "cell_type": "code",
   "execution_count": 7,
   "id": "574adead",
   "metadata": {},
   "outputs": [],
   "source": [
    "film = pd.read_csv('../DATA/OLD/film.csv')\n",
    "filmdf = film.copy()"
   ]
  },
  {
   "cell_type": "code",
   "execution_count": 8,
   "id": "762df57e",
   "metadata": {},
   "outputs": [],
   "source": [
    "inventory = pd.read_csv('../DATA/OLD/inventory.csv')\n",
    "invdf = inventory.copy()"
   ]
  },
  {
   "cell_type": "code",
   "execution_count": 9,
   "id": "67242c9a",
   "metadata": {},
   "outputs": [],
   "source": [
    "old_HDD = pd.read_csv('../DATA/OLD/old_HDD.csv')\n",
    "hdddf = old_HDD.copy()"
   ]
  },
  {
   "cell_type": "code",
   "execution_count": 10,
   "id": "2e336e05",
   "metadata": {},
   "outputs": [],
   "source": [
    "rental = pd.read_csv('../DATA/OLD/rental.csv')\n",
    "rentdf = rental.copy()"
   ]
  },
  {
   "cell_type": "markdown",
   "id": "d6c0a8e4",
   "metadata": {},
   "source": [
    "We import all the \"most wanted\" libraries, needed for data cleaning. \n",
    "Also, I have imported the functions.py where I have pasted Yona's function to visualy check the Nulls in any Data Frame."
   ]
  },
  {
   "cell_type": "markdown",
   "id": "feafa8ed",
   "metadata": {},
   "source": [
    "We load all the .csv and name them to be able to take a look at what is inside and start making decisions.\n",
    "\n",
    "This process I have done it previously and for that reason, we are going to see each one of the .csv separated and with its previous cleaning, but the first thing that I have done has been to load them all and print the first and the last ones to see a little the type of data.\n",
    "\n",
    "We have a total of 7 data frames that correspond to: ACTORS, CATEGORY, MOVIE, INVENTORY, LANGUAGE, RENTAL AND ONE OLD one with info relevant to the people acting in the film, the title of the film, when it was released and the category.\n",
    "\n",
    "To create the database for the movie rental company I would like to play a bit with the data frames to be able to make more interesting relationships later.\n",
    "\n",
    "In particular, I would be interested in:\n",
    "\n",
    "- Film: improve the language-relevant columns. Currently, the original language column has no values and the rental language is English for all. It would be interesting to introduce values relevant to the languages in which you can watch the movie. Nowadays and with the DVD format you can choose the type of language. \n",
    "\n",
    "  I would also like to be able to create new tables with the relationship between the movies, theri category, their actors and languages so I can create their proper relations in SQL.\n",
    "\n",
    "- Rental: This is an important table and from a business point of view it should be fundamental. I would be interested in being able to offer the possibility to compare the rental day, the estimated delivery date, the actual delivery date and therefore if it was delivered late. The idea is to be able to then offer real data to the company about the customers, to know if they are reliable or not in the rentals and therefore reward those who are.\n",
    "\n",
    "- Inventory: I would like to add the number of movies in stock in this table. Currently, we have in this table, data on the store where it is located, but in addition to that it would be interesting to know how many copies of each movie there are in each store, to assure the customer who calls to ask availability, that it exists.\n",
    "\n",
    "- Old_HDD: I would like to add the actor_ID to each of the rows of information to facilitate the relationships between the different tables. This way we could create a relationship between movies and actors, many people want to see movies of certain actors only. It would do the same with the categories of those movies. The new HD would be the conection between tables to do many to many relationships in SQL.\n",
    "\n",
    "    \n",
    "NEW TABLES: I think that, in the future, it could be interesting to create two new tables that could be very useful to manage '8Films'.\n",
    "\n",
    "- Customer: Basic to be able to have control of our customers. \n",
    "    We need:\n",
    "    - Customer_ID: identifier number.\n",
    "    - First_Name: First name.\n",
    "    - Last_Name: Last name.\n",
    "    - Address: Address.\n",
    "    - Joined_Date: member date.\n",
    "    - Cancelled_Date: member cancellation date.\n",
    "    - Credits: this video club will work with credits. 1 credit = 1 movie. In this section, you enter the credits that customers have.\n",
    "\n",
    "\n",
    "- Store: We need some info about the stores we have. In principle, we only have 2, but we need to catalogue them to know where the movies are and where to go to look for them in case someone calls us to ask for availability.\n"
   ]
  },
  {
   "cell_type": "code",
   "execution_count": 11,
   "id": "3db30111",
   "metadata": {
    "scrolled": true
   },
   "outputs": [
    {
     "data": {
      "text/html": [
       "<div>\n",
       "<style scoped>\n",
       "    .dataframe tbody tr th:only-of-type {\n",
       "        vertical-align: middle;\n",
       "    }\n",
       "\n",
       "    .dataframe tbody tr th {\n",
       "        vertical-align: top;\n",
       "    }\n",
       "\n",
       "    .dataframe thead th {\n",
       "        text-align: right;\n",
       "    }\n",
       "</style>\n",
       "<table border=\"1\" class=\"dataframe\">\n",
       "  <thead>\n",
       "    <tr style=\"text-align: right;\">\n",
       "      <th></th>\n",
       "      <th>actor_id</th>\n",
       "      <th>first_name</th>\n",
       "      <th>last_name</th>\n",
       "      <th>last_update</th>\n",
       "    </tr>\n",
       "  </thead>\n",
       "  <tbody>\n",
       "    <tr>\n",
       "      <th>0</th>\n",
       "      <td>1</td>\n",
       "      <td>PENELOPE</td>\n",
       "      <td>GUINESS</td>\n",
       "      <td>2006-02-15 04:34:33</td>\n",
       "    </tr>\n",
       "    <tr>\n",
       "      <th>1</th>\n",
       "      <td>2</td>\n",
       "      <td>NICK</td>\n",
       "      <td>WAHLBERG</td>\n",
       "      <td>2006-02-15 04:34:33</td>\n",
       "    </tr>\n",
       "    <tr>\n",
       "      <th>2</th>\n",
       "      <td>3</td>\n",
       "      <td>ED</td>\n",
       "      <td>CHASE</td>\n",
       "      <td>2006-02-15 04:34:33</td>\n",
       "    </tr>\n",
       "    <tr>\n",
       "      <th>3</th>\n",
       "      <td>4</td>\n",
       "      <td>JENNIFER</td>\n",
       "      <td>DAVIS</td>\n",
       "      <td>2006-02-15 04:34:33</td>\n",
       "    </tr>\n",
       "    <tr>\n",
       "      <th>4</th>\n",
       "      <td>5</td>\n",
       "      <td>JOHNNY</td>\n",
       "      <td>LOLLOBRIGIDA</td>\n",
       "      <td>2006-02-15 04:34:33</td>\n",
       "    </tr>\n",
       "  </tbody>\n",
       "</table>\n",
       "</div>"
      ],
      "text/plain": [
       "   actor_id first_name     last_name          last_update\n",
       "0         1   PENELOPE       GUINESS  2006-02-15 04:34:33\n",
       "1         2       NICK      WAHLBERG  2006-02-15 04:34:33\n",
       "2         3         ED         CHASE  2006-02-15 04:34:33\n",
       "3         4   JENNIFER         DAVIS  2006-02-15 04:34:33\n",
       "4         5     JOHNNY  LOLLOBRIGIDA  2006-02-15 04:34:33"
      ]
     },
     "execution_count": 11,
     "metadata": {},
     "output_type": "execute_result"
    }
   ],
   "source": [
    "acdf.head()"
   ]
  },
  {
   "cell_type": "code",
   "execution_count": 12,
   "id": "8a85eac4",
   "metadata": {},
   "outputs": [
    {
     "name": "stdout",
     "output_type": "stream",
     "text": [
      "<class 'pandas.core.frame.DataFrame'>\n",
      "RangeIndex: 200 entries, 0 to 199\n",
      "Data columns (total 4 columns):\n",
      " #   Column       Non-Null Count  Dtype \n",
      "---  ------       --------------  ----- \n",
      " 0   actor_id     200 non-null    int64 \n",
      " 1   first_name   200 non-null    object\n",
      " 2   last_name    200 non-null    object\n",
      " 3   last_update  200 non-null    object\n",
      "dtypes: int64(1), object(3)\n",
      "memory usage: 6.4+ KB\n"
     ]
    }
   ],
   "source": [
    "acdf.info()"
   ]
  },
  {
   "cell_type": "code",
   "execution_count": 13,
   "id": "11d9ecd0",
   "metadata": {},
   "outputs": [],
   "source": [
    "new_actor_row = pd.DataFrame({'actor_id': [0], 'first_name': ['Miguel'], 'last_name':['Cuadros'], 'last_update': ['2006-02-15 04:34:33']})"
   ]
  },
  {
   "cell_type": "code",
   "execution_count": 14,
   "id": "e339eaac",
   "metadata": {},
   "outputs": [
    {
     "data": {
      "text/html": [
       "<div>\n",
       "<style scoped>\n",
       "    .dataframe tbody tr th:only-of-type {\n",
       "        vertical-align: middle;\n",
       "    }\n",
       "\n",
       "    .dataframe tbody tr th {\n",
       "        vertical-align: top;\n",
       "    }\n",
       "\n",
       "    .dataframe thead th {\n",
       "        text-align: right;\n",
       "    }\n",
       "</style>\n",
       "<table border=\"1\" class=\"dataframe\">\n",
       "  <thead>\n",
       "    <tr style=\"text-align: right;\">\n",
       "      <th></th>\n",
       "      <th>actor_id</th>\n",
       "      <th>first_name</th>\n",
       "      <th>last_name</th>\n",
       "      <th>last_update</th>\n",
       "    </tr>\n",
       "  </thead>\n",
       "  <tbody>\n",
       "    <tr>\n",
       "      <th>0</th>\n",
       "      <td>0</td>\n",
       "      <td>Miguel</td>\n",
       "      <td>Cuadros</td>\n",
       "      <td>2006-02-15 04:34:33</td>\n",
       "    </tr>\n",
       "    <tr>\n",
       "      <th>1</th>\n",
       "      <td>1</td>\n",
       "      <td>PENELOPE</td>\n",
       "      <td>GUINESS</td>\n",
       "      <td>2006-02-15 04:34:33</td>\n",
       "    </tr>\n",
       "    <tr>\n",
       "      <th>2</th>\n",
       "      <td>2</td>\n",
       "      <td>NICK</td>\n",
       "      <td>WAHLBERG</td>\n",
       "      <td>2006-02-15 04:34:33</td>\n",
       "    </tr>\n",
       "    <tr>\n",
       "      <th>3</th>\n",
       "      <td>3</td>\n",
       "      <td>ED</td>\n",
       "      <td>CHASE</td>\n",
       "      <td>2006-02-15 04:34:33</td>\n",
       "    </tr>\n",
       "    <tr>\n",
       "      <th>4</th>\n",
       "      <td>4</td>\n",
       "      <td>JENNIFER</td>\n",
       "      <td>DAVIS</td>\n",
       "      <td>2006-02-15 04:34:33</td>\n",
       "    </tr>\n",
       "    <tr>\n",
       "      <th>...</th>\n",
       "      <td>...</td>\n",
       "      <td>...</td>\n",
       "      <td>...</td>\n",
       "      <td>...</td>\n",
       "    </tr>\n",
       "    <tr>\n",
       "      <th>196</th>\n",
       "      <td>196</td>\n",
       "      <td>BELA</td>\n",
       "      <td>WALKEN</td>\n",
       "      <td>2006-02-15 04:34:33</td>\n",
       "    </tr>\n",
       "    <tr>\n",
       "      <th>197</th>\n",
       "      <td>197</td>\n",
       "      <td>REESE</td>\n",
       "      <td>WEST</td>\n",
       "      <td>2006-02-15 04:34:33</td>\n",
       "    </tr>\n",
       "    <tr>\n",
       "      <th>198</th>\n",
       "      <td>198</td>\n",
       "      <td>MARY</td>\n",
       "      <td>KEITEL</td>\n",
       "      <td>2006-02-15 04:34:33</td>\n",
       "    </tr>\n",
       "    <tr>\n",
       "      <th>199</th>\n",
       "      <td>199</td>\n",
       "      <td>JULIA</td>\n",
       "      <td>FAWCETT</td>\n",
       "      <td>2006-02-15 04:34:33</td>\n",
       "    </tr>\n",
       "    <tr>\n",
       "      <th>200</th>\n",
       "      <td>200</td>\n",
       "      <td>THORA</td>\n",
       "      <td>TEMPLE</td>\n",
       "      <td>2006-02-15 04:34:33</td>\n",
       "    </tr>\n",
       "  </tbody>\n",
       "</table>\n",
       "<p>201 rows × 4 columns</p>\n",
       "</div>"
      ],
      "text/plain": [
       "     actor_id first_name last_name          last_update\n",
       "0           0     Miguel   Cuadros  2006-02-15 04:34:33\n",
       "1           1   PENELOPE   GUINESS  2006-02-15 04:34:33\n",
       "2           2       NICK  WAHLBERG  2006-02-15 04:34:33\n",
       "3           3         ED     CHASE  2006-02-15 04:34:33\n",
       "4           4   JENNIFER     DAVIS  2006-02-15 04:34:33\n",
       "..        ...        ...       ...                  ...\n",
       "196       196       BELA    WALKEN  2006-02-15 04:34:33\n",
       "197       197      REESE      WEST  2006-02-15 04:34:33\n",
       "198       198       MARY    KEITEL  2006-02-15 04:34:33\n",
       "199       199      JULIA   FAWCETT  2006-02-15 04:34:33\n",
       "200       200      THORA    TEMPLE  2006-02-15 04:34:33\n",
       "\n",
       "[201 rows x 4 columns]"
      ]
     },
     "execution_count": 14,
     "metadata": {},
     "output_type": "execute_result"
    }
   ],
   "source": [
    "acdf = pd.concat([new_actor_row, acdf], ignore_index=True)\n",
    "acdf"
   ]
  },
  {
   "cell_type": "code",
   "execution_count": 15,
   "id": "62234988",
   "metadata": {},
   "outputs": [
    {
     "name": "stdout",
     "output_type": "stream",
     "text": [
      "N nan cols: 0\n",
      "Series([], dtype: float64)\n"
     ]
    },
    {
     "data": {
      "image/png": "[encoded data removed]",
      "text/plain": [
       "<Figure size 1000x600 with 1 Axes>"
      ]
     },
     "metadata": {},
     "output_type": "display_data"
    }
   ],
   "source": [
    "ckna(acdf)"
   ]
  },
  {
   "cell_type": "code",
   "execution_count": 16,
   "id": "618a9a19",
   "metadata": {},
   "outputs": [],
   "source": [
    "new_acdf = acdf.drop_duplicates()"
   ]
  },
  {
   "cell_type": "markdown",
   "id": "5395471d",
   "metadata": {},
   "source": [
    "From actors table there should be not much to clean or even do. It seems there are not nulls so I don't believe we should much for now. Lets jump to the next table: Category."
   ]
  },
  {
   "cell_type": "code",
   "execution_count": 77,
   "id": "b8757e87",
   "metadata": {},
   "outputs": [
    {
     "data": {
      "text/html": [
       "<div>\n",
       "<style scoped>\n",
       "    .dataframe tbody tr th:only-of-type {\n",
       "        vertical-align: middle;\n",
       "    }\n",
       "\n",
       "    .dataframe tbody tr th {\n",
       "        vertical-align: top;\n",
       "    }\n",
       "\n",
       "    .dataframe thead th {\n",
       "        text-align: right;\n",
       "    }\n",
       "</style>\n",
       "<table border=\"1\" class=\"dataframe\">\n",
       "  <thead>\n",
       "    <tr style=\"text-align: right;\">\n",
       "      <th></th>\n",
       "      <th>category_id</th>\n",
       "      <th>name</th>\n",
       "      <th>last_update</th>\n",
       "    </tr>\n",
       "  </thead>\n",
       "  <tbody>\n",
       "    <tr>\n",
       "      <th>0</th>\n",
       "      <td>1</td>\n",
       "      <td>Action</td>\n",
       "      <td>2006-02-15 04:46:27</td>\n",
       "    </tr>\n",
       "    <tr>\n",
       "      <th>1</th>\n",
       "      <td>2</td>\n",
       "      <td>Animation</td>\n",
       "      <td>2006-02-15 04:46:27</td>\n",
       "    </tr>\n",
       "    <tr>\n",
       "      <th>2</th>\n",
       "      <td>3</td>\n",
       "      <td>Children</td>\n",
       "      <td>2006-02-15 04:46:27</td>\n",
       "    </tr>\n",
       "    <tr>\n",
       "      <th>3</th>\n",
       "      <td>4</td>\n",
       "      <td>Classics</td>\n",
       "      <td>2006-02-15 04:46:27</td>\n",
       "    </tr>\n",
       "    <tr>\n",
       "      <th>4</th>\n",
       "      <td>5</td>\n",
       "      <td>Comedy</td>\n",
       "      <td>2006-02-15 04:46:27</td>\n",
       "    </tr>\n",
       "  </tbody>\n",
       "</table>\n",
       "</div>"
      ],
      "text/plain": [
       "   category_id       name          last_update\n",
       "0            1     Action  2006-02-15 04:46:27\n",
       "1            2  Animation  2006-02-15 04:46:27\n",
       "2            3   Children  2006-02-15 04:46:27\n",
       "3            4   Classics  2006-02-15 04:46:27\n",
       "4            5     Comedy  2006-02-15 04:46:27"
      ]
     },
     "execution_count": 77,
     "metadata": {},
     "output_type": "execute_result"
    }
   ],
   "source": [
    "catdf.head()"
   ]
  },
  {
   "cell_type": "code",
   "execution_count": 78,
   "id": "92725603",
   "metadata": {},
   "outputs": [
    {
     "name": "stdout",
     "output_type": "stream",
     "text": [
      "<class 'pandas.core.frame.DataFrame'>\n",
      "RangeIndex: 16 entries, 0 to 15\n",
      "Data columns (total 3 columns):\n",
      " #   Column       Non-Null Count  Dtype \n",
      "---  ------       --------------  ----- \n",
      " 0   category_id  16 non-null     int64 \n",
      " 1   name         16 non-null     object\n",
      " 2   last_update  16 non-null     object\n",
      "dtypes: int64(1), object(2)\n",
      "memory usage: 512.0+ bytes\n"
     ]
    }
   ],
   "source": [
    "catdf.info()"
   ]
  },
  {
   "cell_type": "code",
   "execution_count": 79,
   "id": "04f25a60",
   "metadata": {},
   "outputs": [
    {
     "data": {
      "text/plain": [
       "category_id  name         last_update        \n",
       "1            Action       2006-02-15 04:46:27    1\n",
       "2            Animation    2006-02-15 04:46:27    1\n",
       "3            Children     2006-02-15 04:46:27    1\n",
       "4            Classics     2006-02-15 04:46:27    1\n",
       "5            Comedy       2006-02-15 04:46:27    1\n",
       "6            Documentary  2006-02-15 04:46:27    1\n",
       "7            Drama        2006-02-15 04:46:27    1\n",
       "8            Family       2006-02-15 04:46:27    1\n",
       "9            Foreign      2006-02-15 04:46:27    1\n",
       "10           Games        2006-02-15 04:46:27    1\n",
       "11           Horror       2006-02-15 04:46:27    1\n",
       "12           Music        2006-02-15 04:46:27    1\n",
       "13           New          2006-02-15 04:46:27    1\n",
       "14           Sci-Fi       2006-02-15 04:46:27    1\n",
       "15           Sports       2006-02-15 04:46:27    1\n",
       "16           Travel       2006-02-15 04:46:27    1\n",
       "Name: count, dtype: int64"
      ]
     },
     "execution_count": 79,
     "metadata": {},
     "output_type": "execute_result"
    }
   ],
   "source": [
    "catdf.value_counts()    #I do this to check that there are not duplicated entries."
   ]
  },
  {
   "cell_type": "code",
   "execution_count": 80,
   "id": "23b4e97a",
   "metadata": {},
   "outputs": [
    {
     "name": "stdout",
     "output_type": "stream",
     "text": [
      "N nan cols: 0\n",
      "Series([], dtype: float64)\n"
     ]
    },
    {
     "data": {
      "image/png": "[encoded data removed]",
      "text/plain": [
       "<Figure size 1000x600 with 1 Axes>"
      ]
     },
     "metadata": {},
     "output_type": "display_data"
    }
   ],
   "source": [
    "ckna(catdf)"
   ]
  },
  {
   "cell_type": "code",
   "execution_count": 81,
   "id": "66abc7df",
   "metadata": {},
   "outputs": [],
   "source": [
    "new_catdf = catdf.drop_duplicates()"
   ]
  },
  {
   "cell_type": "code",
   "execution_count": 82,
   "id": "11afc1c4",
   "metadata": {},
   "outputs": [
    {
     "data": {
      "text/plain": [
       "(16, 3)"
      ]
     },
     "execution_count": 82,
     "metadata": {},
     "output_type": "execute_result"
    }
   ],
   "source": [
    "new_catdf.shape"
   ]
  },
  {
   "cell_type": "markdown",
   "id": "fde697e7",
   "metadata": {},
   "source": [
    "Categories dataset seems to be also quite clean, so once again we can skip to the next table. \n",
    "On a side note, I would like to check if the data frame which covers the films could have the category_ID so I can link it to this one in the future.\n",
    "\n",
    "Next table: languages!"
   ]
  },
  {
   "cell_type": "code",
   "execution_count": 83,
   "id": "e6409680",
   "metadata": {},
   "outputs": [
    {
     "data": {
      "text/html": [
       "<div>\n",
       "<style scoped>\n",
       "    .dataframe tbody tr th:only-of-type {\n",
       "        vertical-align: middle;\n",
       "    }\n",
       "\n",
       "    .dataframe tbody tr th {\n",
       "        vertical-align: top;\n",
       "    }\n",
       "\n",
       "    .dataframe thead th {\n",
       "        text-align: right;\n",
       "    }\n",
       "</style>\n",
       "<table border=\"1\" class=\"dataframe\">\n",
       "  <thead>\n",
       "    <tr style=\"text-align: right;\">\n",
       "      <th></th>\n",
       "      <th>language_id</th>\n",
       "      <th>name</th>\n",
       "      <th>last_update</th>\n",
       "    </tr>\n",
       "  </thead>\n",
       "  <tbody>\n",
       "    <tr>\n",
       "      <th>0</th>\n",
       "      <td>1</td>\n",
       "      <td>English</td>\n",
       "      <td>2006-02-15 05:02:19</td>\n",
       "    </tr>\n",
       "    <tr>\n",
       "      <th>1</th>\n",
       "      <td>2</td>\n",
       "      <td>Italian</td>\n",
       "      <td>2006-02-15 05:02:19</td>\n",
       "    </tr>\n",
       "    <tr>\n",
       "      <th>2</th>\n",
       "      <td>3</td>\n",
       "      <td>Japanese</td>\n",
       "      <td>2006-02-15 05:02:19</td>\n",
       "    </tr>\n",
       "    <tr>\n",
       "      <th>3</th>\n",
       "      <td>4</td>\n",
       "      <td>Mandarin</td>\n",
       "      <td>2006-02-15 05:02:19</td>\n",
       "    </tr>\n",
       "    <tr>\n",
       "      <th>4</th>\n",
       "      <td>5</td>\n",
       "      <td>French</td>\n",
       "      <td>2006-02-15 05:02:19</td>\n",
       "    </tr>\n",
       "  </tbody>\n",
       "</table>\n",
       "</div>"
      ],
      "text/plain": [
       "   language_id      name          last_update\n",
       "0            1   English  2006-02-15 05:02:19\n",
       "1            2   Italian  2006-02-15 05:02:19\n",
       "2            3  Japanese  2006-02-15 05:02:19\n",
       "3            4  Mandarin  2006-02-15 05:02:19\n",
       "4            5    French  2006-02-15 05:02:19"
      ]
     },
     "execution_count": 83,
     "metadata": {},
     "output_type": "execute_result"
    }
   ],
   "source": [
    "langdf.head()"
   ]
  },
  {
   "cell_type": "code",
   "execution_count": 84,
   "id": "11833f91",
   "metadata": {},
   "outputs": [
    {
     "name": "stdout",
     "output_type": "stream",
     "text": [
      "<class 'pandas.core.frame.DataFrame'>\n",
      "RangeIndex: 6 entries, 0 to 5\n",
      "Data columns (total 3 columns):\n",
      " #   Column       Non-Null Count  Dtype \n",
      "---  ------       --------------  ----- \n",
      " 0   language_id  6 non-null      int64 \n",
      " 1   name         6 non-null      object\n",
      " 2   last_update  6 non-null      object\n",
      "dtypes: int64(1), object(2)\n",
      "memory usage: 272.0+ bytes\n"
     ]
    }
   ],
   "source": [
    "langdf.info()"
   ]
  },
  {
   "cell_type": "code",
   "execution_count": 85,
   "id": "f7888c0a",
   "metadata": {},
   "outputs": [
    {
     "data": {
      "text/plain": [
       "language_id  name      last_update        \n",
       "1            English   2006-02-15 05:02:19    1\n",
       "2            Italian   2006-02-15 05:02:19    1\n",
       "3            Japanese  2006-02-15 05:02:19    1\n",
       "4            Mandarin  2006-02-15 05:02:19    1\n",
       "5            French    2006-02-15 05:02:19    1\n",
       "6            German    2006-02-15 05:02:19    1\n",
       "Name: count, dtype: int64"
      ]
     },
     "execution_count": 85,
     "metadata": {},
     "output_type": "execute_result"
    }
   ],
   "source": [
    "langdf.value_counts()"
   ]
  },
  {
   "cell_type": "markdown",
   "id": "0126b87a",
   "metadata": {},
   "source": [
    "Perhaps it could be useful to add some more rows regarding more langauges, such as:\n",
    "- Spanish: language_id: 7 \n",
    "- Korean: language_id: 8\n",
    "- Indian: language_id: 9"
   ]
  },
  {
   "cell_type": "code",
   "execution_count": 86,
   "id": "6be8dac5",
   "metadata": {},
   "outputs": [],
   "source": [
    "from datetime import datetime\n",
    "now = datetime.now()\n",
    "current_time = now.strftime('%Y-%m-%d %H:%M:%S')"
   ]
  },
  {
   "cell_type": "code",
   "execution_count": 87,
   "id": "8a2b82e1",
   "metadata": {},
   "outputs": [],
   "source": [
    "new_rows = pd.DataFrame({'language_id': [7, 8, 9, 10, 0], 'name': ['Spanish', 'Portuguese', 'Korean', 'Indian', 'unknown'], 'last_update': [current_time, current_time, current_time, current_time, current_time]})"
   ]
  },
  {
   "cell_type": "code",
   "execution_count": 88,
   "id": "ecfc9752",
   "metadata": {},
   "outputs": [
    {
     "data": {
      "text/html": [
       "<div>\n",
       "<style scoped>\n",
       "    .dataframe tbody tr th:only-of-type {\n",
       "        vertical-align: middle;\n",
       "    }\n",
       "\n",
       "    .dataframe tbody tr th {\n",
       "        vertical-align: top;\n",
       "    }\n",
       "\n",
       "    .dataframe thead th {\n",
       "        text-align: right;\n",
       "    }\n",
       "</style>\n",
       "<table border=\"1\" class=\"dataframe\">\n",
       "  <thead>\n",
       "    <tr style=\"text-align: right;\">\n",
       "      <th></th>\n",
       "      <th>language_id</th>\n",
       "      <th>name</th>\n",
       "      <th>last_update</th>\n",
       "    </tr>\n",
       "  </thead>\n",
       "  <tbody>\n",
       "    <tr>\n",
       "      <th>0</th>\n",
       "      <td>7</td>\n",
       "      <td>Spanish</td>\n",
       "      <td>2023-10-30 08:57:07</td>\n",
       "    </tr>\n",
       "    <tr>\n",
       "      <th>1</th>\n",
       "      <td>8</td>\n",
       "      <td>Portuguese</td>\n",
       "      <td>2023-10-30 08:57:07</td>\n",
       "    </tr>\n",
       "    <tr>\n",
       "      <th>2</th>\n",
       "      <td>9</td>\n",
       "      <td>Korean</td>\n",
       "      <td>2023-10-30 08:57:07</td>\n",
       "    </tr>\n",
       "    <tr>\n",
       "      <th>3</th>\n",
       "      <td>10</td>\n",
       "      <td>Indian</td>\n",
       "      <td>2023-10-30 08:57:07</td>\n",
       "    </tr>\n",
       "    <tr>\n",
       "      <th>4</th>\n",
       "      <td>0</td>\n",
       "      <td>unknown</td>\n",
       "      <td>2023-10-30 08:57:07</td>\n",
       "    </tr>\n",
       "  </tbody>\n",
       "</table>\n",
       "</div>"
      ],
      "text/plain": [
       "   language_id        name          last_update\n",
       "0            7     Spanish  2023-10-30 08:57:07\n",
       "1            8  Portuguese  2023-10-30 08:57:07\n",
       "2            9      Korean  2023-10-30 08:57:07\n",
       "3           10      Indian  2023-10-30 08:57:07\n",
       "4            0     unknown  2023-10-30 08:57:07"
      ]
     },
     "execution_count": 88,
     "metadata": {},
     "output_type": "execute_result"
    }
   ],
   "source": [
    "new_rows"
   ]
  },
  {
   "cell_type": "code",
   "execution_count": 89,
   "id": "12c277cc",
   "metadata": {},
   "outputs": [
    {
     "data": {
      "text/html": [
       "<div>\n",
       "<style scoped>\n",
       "    .dataframe tbody tr th:only-of-type {\n",
       "        vertical-align: middle;\n",
       "    }\n",
       "\n",
       "    .dataframe tbody tr th {\n",
       "        vertical-align: top;\n",
       "    }\n",
       "\n",
       "    .dataframe thead th {\n",
       "        text-align: right;\n",
       "    }\n",
       "</style>\n",
       "<table border=\"1\" class=\"dataframe\">\n",
       "  <thead>\n",
       "    <tr style=\"text-align: right;\">\n",
       "      <th></th>\n",
       "      <th>language_id</th>\n",
       "      <th>name</th>\n",
       "      <th>last_update</th>\n",
       "    </tr>\n",
       "  </thead>\n",
       "  <tbody>\n",
       "    <tr>\n",
       "      <th>0</th>\n",
       "      <td>1</td>\n",
       "      <td>English</td>\n",
       "      <td>2006-02-15 05:02:19</td>\n",
       "    </tr>\n",
       "    <tr>\n",
       "      <th>1</th>\n",
       "      <td>2</td>\n",
       "      <td>Italian</td>\n",
       "      <td>2006-02-15 05:02:19</td>\n",
       "    </tr>\n",
       "    <tr>\n",
       "      <th>2</th>\n",
       "      <td>3</td>\n",
       "      <td>Japanese</td>\n",
       "      <td>2006-02-15 05:02:19</td>\n",
       "    </tr>\n",
       "    <tr>\n",
       "      <th>3</th>\n",
       "      <td>4</td>\n",
       "      <td>Mandarin</td>\n",
       "      <td>2006-02-15 05:02:19</td>\n",
       "    </tr>\n",
       "    <tr>\n",
       "      <th>4</th>\n",
       "      <td>5</td>\n",
       "      <td>French</td>\n",
       "      <td>2006-02-15 05:02:19</td>\n",
       "    </tr>\n",
       "    <tr>\n",
       "      <th>5</th>\n",
       "      <td>6</td>\n",
       "      <td>German</td>\n",
       "      <td>2006-02-15 05:02:19</td>\n",
       "    </tr>\n",
       "    <tr>\n",
       "      <th>6</th>\n",
       "      <td>7</td>\n",
       "      <td>Spanish</td>\n",
       "      <td>2023-10-30 08:57:07</td>\n",
       "    </tr>\n",
       "    <tr>\n",
       "      <th>7</th>\n",
       "      <td>8</td>\n",
       "      <td>Portuguese</td>\n",
       "      <td>2023-10-30 08:57:07</td>\n",
       "    </tr>\n",
       "    <tr>\n",
       "      <th>8</th>\n",
       "      <td>9</td>\n",
       "      <td>Korean</td>\n",
       "      <td>2023-10-30 08:57:07</td>\n",
       "    </tr>\n",
       "    <tr>\n",
       "      <th>9</th>\n",
       "      <td>10</td>\n",
       "      <td>Indian</td>\n",
       "      <td>2023-10-30 08:57:07</td>\n",
       "    </tr>\n",
       "    <tr>\n",
       "      <th>10</th>\n",
       "      <td>0</td>\n",
       "      <td>unknown</td>\n",
       "      <td>2023-10-30 08:57:07</td>\n",
       "    </tr>\n",
       "  </tbody>\n",
       "</table>\n",
       "</div>"
      ],
      "text/plain": [
       "    language_id        name          last_update\n",
       "0             1     English  2006-02-15 05:02:19\n",
       "1             2     Italian  2006-02-15 05:02:19\n",
       "2             3    Japanese  2006-02-15 05:02:19\n",
       "3             4    Mandarin  2006-02-15 05:02:19\n",
       "4             5      French  2006-02-15 05:02:19\n",
       "5             6      German  2006-02-15 05:02:19\n",
       "6             7     Spanish  2023-10-30 08:57:07\n",
       "7             8  Portuguese  2023-10-30 08:57:07\n",
       "8             9      Korean  2023-10-30 08:57:07\n",
       "9            10      Indian  2023-10-30 08:57:07\n",
       "10            0     unknown  2023-10-30 08:57:07"
      ]
     },
     "execution_count": 89,
     "metadata": {},
     "output_type": "execute_result"
    }
   ],
   "source": [
    "newlangdf = pd.concat([langdf, new_rows], ignore_index=True)\n",
    "newlangdf"
   ]
  },
  {
   "cell_type": "code",
   "execution_count": 90,
   "id": "05682fbd",
   "metadata": {},
   "outputs": [
    {
     "name": "stdout",
     "output_type": "stream",
     "text": [
      "N nan cols: 0\n",
      "Series([], dtype: float64)\n"
     ]
    },
    {
     "data": {
      "image/png": "[encoded data removed]",
      "text/plain": [
       "<Figure size 1000x600 with 1 Axes>"
      ]
     },
     "metadata": {},
     "output_type": "display_data"
    }
   ],
   "source": [
    "ckna(newlangdf)"
   ]
  },
  {
   "cell_type": "markdown",
   "id": "1ba012c2",
   "metadata": {},
   "source": [
    "Let's check now those dataframes where I want to do some changes.\n",
    "As a little reminder:\n",
    "\n",
    "- Film: improve the language-relevant columns. Currently, the original language column has no values and the rental language is English for all. It would be interesting to introduce values relevant to the languages in which you can watch the movie. Nowadays and with the DVD format you can choose the type of language. \n",
    "\n",
    "  I would also like to be able to create new tables with the relationship between the movies, their category, their actors and languages so I can create their proper relations in SQL."
   ]
  },
  {
   "cell_type": "code",
   "execution_count": 91,
   "id": "9953c7e5",
   "metadata": {},
   "outputs": [
    {
     "data": {
      "text/html": [
       "<div>\n",
       "<style scoped>\n",
       "    .dataframe tbody tr th:only-of-type {\n",
       "        vertical-align: middle;\n",
       "    }\n",
       "\n",
       "    .dataframe tbody tr th {\n",
       "        vertical-align: top;\n",
       "    }\n",
       "\n",
       "    .dataframe thead th {\n",
       "        text-align: right;\n",
       "    }\n",
       "</style>\n",
       "<table border=\"1\" class=\"dataframe\">\n",
       "  <thead>\n",
       "    <tr style=\"text-align: right;\">\n",
       "      <th></th>\n",
       "      <th>film_id</th>\n",
       "      <th>title</th>\n",
       "      <th>description</th>\n",
       "      <th>release_year</th>\n",
       "      <th>language_id</th>\n",
       "      <th>original_language_id</th>\n",
       "      <th>rental_duration</th>\n",
       "      <th>rental_rate</th>\n",
       "      <th>length</th>\n",
       "      <th>replacement_cost</th>\n",
       "      <th>rating</th>\n",
       "      <th>special_features</th>\n",
       "      <th>last_update</th>\n",
       "    </tr>\n",
       "  </thead>\n",
       "  <tbody>\n",
       "    <tr>\n",
       "      <th>0</th>\n",
       "      <td>1</td>\n",
       "      <td>ACADEMY DINOSAUR</td>\n",
       "      <td>A Epic Drama of a Feminist And a Mad Scientist...</td>\n",
       "      <td>2006</td>\n",
       "      <td>1</td>\n",
       "      <td>NaN</td>\n",
       "      <td>6</td>\n",
       "      <td>0.99</td>\n",
       "      <td>86</td>\n",
       "      <td>20.99</td>\n",
       "      <td>PG</td>\n",
       "      <td>Deleted Scenes,Behind the Scenes</td>\n",
       "      <td>2006-02-15 05:03:42</td>\n",
       "    </tr>\n",
       "    <tr>\n",
       "      <th>1</th>\n",
       "      <td>2</td>\n",
       "      <td>ACE GOLDFINGER</td>\n",
       "      <td>A Astounding Epistle of a Database Administrat...</td>\n",
       "      <td>2006</td>\n",
       "      <td>1</td>\n",
       "      <td>NaN</td>\n",
       "      <td>3</td>\n",
       "      <td>4.99</td>\n",
       "      <td>48</td>\n",
       "      <td>12.99</td>\n",
       "      <td>G</td>\n",
       "      <td>Trailers,Deleted Scenes</td>\n",
       "      <td>2006-02-15 05:03:42</td>\n",
       "    </tr>\n",
       "    <tr>\n",
       "      <th>2</th>\n",
       "      <td>3</td>\n",
       "      <td>ADAPTATION HOLES</td>\n",
       "      <td>A Astounding Reflection of a Lumberjack And a ...</td>\n",
       "      <td>2006</td>\n",
       "      <td>1</td>\n",
       "      <td>NaN</td>\n",
       "      <td>7</td>\n",
       "      <td>2.99</td>\n",
       "      <td>50</td>\n",
       "      <td>18.99</td>\n",
       "      <td>NC-17</td>\n",
       "      <td>Trailers,Deleted Scenes</td>\n",
       "      <td>2006-02-15 05:03:42</td>\n",
       "    </tr>\n",
       "    <tr>\n",
       "      <th>3</th>\n",
       "      <td>4</td>\n",
       "      <td>AFFAIR PREJUDICE</td>\n",
       "      <td>A Fanciful Documentary of a Frisbee And a Lumb...</td>\n",
       "      <td>2006</td>\n",
       "      <td>1</td>\n",
       "      <td>NaN</td>\n",
       "      <td>5</td>\n",
       "      <td>2.99</td>\n",
       "      <td>117</td>\n",
       "      <td>26.99</td>\n",
       "      <td>G</td>\n",
       "      <td>Commentaries,Behind the Scenes</td>\n",
       "      <td>2006-02-15 05:03:42</td>\n",
       "    </tr>\n",
       "    <tr>\n",
       "      <th>4</th>\n",
       "      <td>5</td>\n",
       "      <td>AFRICAN EGG</td>\n",
       "      <td>A Fast-Paced Documentary of a Pastry Chef And ...</td>\n",
       "      <td>2006</td>\n",
       "      <td>1</td>\n",
       "      <td>NaN</td>\n",
       "      <td>6</td>\n",
       "      <td>2.99</td>\n",
       "      <td>130</td>\n",
       "      <td>22.99</td>\n",
       "      <td>G</td>\n",
       "      <td>Deleted Scenes</td>\n",
       "      <td>2006-02-15 05:03:42</td>\n",
       "    </tr>\n",
       "  </tbody>\n",
       "</table>\n",
       "</div>"
      ],
      "text/plain": [
       "   film_id             title  \\\n",
       "0        1  ACADEMY DINOSAUR   \n",
       "1        2    ACE GOLDFINGER   \n",
       "2        3  ADAPTATION HOLES   \n",
       "3        4  AFFAIR PREJUDICE   \n",
       "4        5       AFRICAN EGG   \n",
       "\n",
       "                                         description  release_year  \\\n",
       "0  A Epic Drama of a Feminist And a Mad Scientist...          2006   \n",
       "1  A Astounding Epistle of a Database Administrat...          2006   \n",
       "2  A Astounding Reflection of a Lumberjack And a ...          2006   \n",
       "3  A Fanciful Documentary of a Frisbee And a Lumb...          2006   \n",
       "4  A Fast-Paced Documentary of a Pastry Chef And ...          2006   \n",
       "\n",
       "   language_id  original_language_id  rental_duration  rental_rate  length  \\\n",
       "0            1                   NaN                6         0.99      86   \n",
       "1            1                   NaN                3         4.99      48   \n",
       "2            1                   NaN                7         2.99      50   \n",
       "3            1                   NaN                5         2.99     117   \n",
       "4            1                   NaN                6         2.99     130   \n",
       "\n",
       "   replacement_cost rating                  special_features  \\\n",
       "0             20.99     PG  Deleted Scenes,Behind the Scenes   \n",
       "1             12.99      G           Trailers,Deleted Scenes   \n",
       "2             18.99  NC-17           Trailers,Deleted Scenes   \n",
       "3             26.99      G    Commentaries,Behind the Scenes   \n",
       "4             22.99      G                    Deleted Scenes   \n",
       "\n",
       "           last_update  \n",
       "0  2006-02-15 05:03:42  \n",
       "1  2006-02-15 05:03:42  \n",
       "2  2006-02-15 05:03:42  \n",
       "3  2006-02-15 05:03:42  \n",
       "4  2006-02-15 05:03:42  "
      ]
     },
     "execution_count": 91,
     "metadata": {},
     "output_type": "execute_result"
    }
   ],
   "source": [
    "filmdf.head()"
   ]
  },
  {
   "cell_type": "code",
   "execution_count": 92,
   "id": "00a32d00",
   "metadata": {},
   "outputs": [
    {
     "name": "stdout",
     "output_type": "stream",
     "text": [
      "<class 'pandas.core.frame.DataFrame'>\n",
      "RangeIndex: 1000 entries, 0 to 999\n",
      "Data columns (total 13 columns):\n",
      " #   Column                Non-Null Count  Dtype  \n",
      "---  ------                --------------  -----  \n",
      " 0   film_id               1000 non-null   int64  \n",
      " 1   title                 1000 non-null   object \n",
      " 2   description           1000 non-null   object \n",
      " 3   release_year          1000 non-null   int64  \n",
      " 4   language_id           1000 non-null   int64  \n",
      " 5   original_language_id  0 non-null      float64\n",
      " 6   rental_duration       1000 non-null   int64  \n",
      " 7   rental_rate           1000 non-null   float64\n",
      " 8   length                1000 non-null   int64  \n",
      " 9   replacement_cost      1000 non-null   float64\n",
      " 10  rating                1000 non-null   object \n",
      " 11  special_features      1000 non-null   object \n",
      " 12  last_update           1000 non-null   object \n",
      "dtypes: float64(3), int64(5), object(5)\n",
      "memory usage: 101.7+ KB\n"
     ]
    }
   ],
   "source": [
    "filmdf.info()"
   ]
  },
  {
   "cell_type": "code",
   "execution_count": 93,
   "id": "b4cb304b",
   "metadata": {},
   "outputs": [
    {
     "name": "stdout",
     "output_type": "stream",
     "text": [
      "N nan cols: 1\n",
      "original_language_id    100.0\n",
      "dtype: float64\n"
     ]
    },
    {
     "data": {
      "image/png": "[encoded data removed]",
      "text/plain": [
       "<Figure size 1000x600 with 1 Axes>"
      ]
     },
     "metadata": {},
     "output_type": "display_data"
    }
   ],
   "source": [
    "ckna(filmdf)"
   ]
  },
  {
   "cell_type": "code",
   "execution_count": 94,
   "id": "fb391dee",
   "metadata": {},
   "outputs": [],
   "source": [
    "filmdf = filmdf.fillna(1)   #en otro mundo hubiera pillado la info relevante al pais de la peli para poner el idioma pero como no tengo esa info y las pelis son inventadas pues pongo el mismo idioma."
   ]
  },
  {
   "cell_type": "code",
   "execution_count": 95,
   "id": "a325f1bd",
   "metadata": {},
   "outputs": [
    {
     "data": {
      "text/html": [
       "<div>\n",
       "<style scoped>\n",
       "    .dataframe tbody tr th:only-of-type {\n",
       "        vertical-align: middle;\n",
       "    }\n",
       "\n",
       "    .dataframe tbody tr th {\n",
       "        vertical-align: top;\n",
       "    }\n",
       "\n",
       "    .dataframe thead th {\n",
       "        text-align: right;\n",
       "    }\n",
       "</style>\n",
       "<table border=\"1\" class=\"dataframe\">\n",
       "  <thead>\n",
       "    <tr style=\"text-align: right;\">\n",
       "      <th></th>\n",
       "      <th>film_id</th>\n",
       "      <th>title</th>\n",
       "      <th>description</th>\n",
       "      <th>release_year</th>\n",
       "      <th>language_id</th>\n",
       "      <th>original_language_id</th>\n",
       "      <th>rental_duration</th>\n",
       "      <th>rental_rate</th>\n",
       "      <th>length</th>\n",
       "      <th>replacement_cost</th>\n",
       "      <th>rating</th>\n",
       "      <th>special_features</th>\n",
       "      <th>last_update</th>\n",
       "    </tr>\n",
       "  </thead>\n",
       "  <tbody>\n",
       "    <tr>\n",
       "      <th>0</th>\n",
       "      <td>1</td>\n",
       "      <td>ACADEMY DINOSAUR</td>\n",
       "      <td>A Epic Drama of a Feminist And a Mad Scientist...</td>\n",
       "      <td>2006</td>\n",
       "      <td>1</td>\n",
       "      <td>1.0</td>\n",
       "      <td>6</td>\n",
       "      <td>0.99</td>\n",
       "      <td>86</td>\n",
       "      <td>20.99</td>\n",
       "      <td>PG</td>\n",
       "      <td>Deleted Scenes,Behind the Scenes</td>\n",
       "      <td>2006-02-15 05:03:42</td>\n",
       "    </tr>\n",
       "    <tr>\n",
       "      <th>1</th>\n",
       "      <td>2</td>\n",
       "      <td>ACE GOLDFINGER</td>\n",
       "      <td>A Astounding Epistle of a Database Administrat...</td>\n",
       "      <td>2006</td>\n",
       "      <td>1</td>\n",
       "      <td>1.0</td>\n",
       "      <td>3</td>\n",
       "      <td>4.99</td>\n",
       "      <td>48</td>\n",
       "      <td>12.99</td>\n",
       "      <td>G</td>\n",
       "      <td>Trailers,Deleted Scenes</td>\n",
       "      <td>2006-02-15 05:03:42</td>\n",
       "    </tr>\n",
       "    <tr>\n",
       "      <th>2</th>\n",
       "      <td>3</td>\n",
       "      <td>ADAPTATION HOLES</td>\n",
       "      <td>A Astounding Reflection of a Lumberjack And a ...</td>\n",
       "      <td>2006</td>\n",
       "      <td>1</td>\n",
       "      <td>1.0</td>\n",
       "      <td>7</td>\n",
       "      <td>2.99</td>\n",
       "      <td>50</td>\n",
       "      <td>18.99</td>\n",
       "      <td>NC-17</td>\n",
       "      <td>Trailers,Deleted Scenes</td>\n",
       "      <td>2006-02-15 05:03:42</td>\n",
       "    </tr>\n",
       "    <tr>\n",
       "      <th>3</th>\n",
       "      <td>4</td>\n",
       "      <td>AFFAIR PREJUDICE</td>\n",
       "      <td>A Fanciful Documentary of a Frisbee And a Lumb...</td>\n",
       "      <td>2006</td>\n",
       "      <td>1</td>\n",
       "      <td>1.0</td>\n",
       "      <td>5</td>\n",
       "      <td>2.99</td>\n",
       "      <td>117</td>\n",
       "      <td>26.99</td>\n",
       "      <td>G</td>\n",
       "      <td>Commentaries,Behind the Scenes</td>\n",
       "      <td>2006-02-15 05:03:42</td>\n",
       "    </tr>\n",
       "    <tr>\n",
       "      <th>4</th>\n",
       "      <td>5</td>\n",
       "      <td>AFRICAN EGG</td>\n",
       "      <td>A Fast-Paced Documentary of a Pastry Chef And ...</td>\n",
       "      <td>2006</td>\n",
       "      <td>1</td>\n",
       "      <td>1.0</td>\n",
       "      <td>6</td>\n",
       "      <td>2.99</td>\n",
       "      <td>130</td>\n",
       "      <td>22.99</td>\n",
       "      <td>G</td>\n",
       "      <td>Deleted Scenes</td>\n",
       "      <td>2006-02-15 05:03:42</td>\n",
       "    </tr>\n",
       "  </tbody>\n",
       "</table>\n",
       "</div>"
      ],
      "text/plain": [
       "   film_id             title  \\\n",
       "0        1  ACADEMY DINOSAUR   \n",
       "1        2    ACE GOLDFINGER   \n",
       "2        3  ADAPTATION HOLES   \n",
       "3        4  AFFAIR PREJUDICE   \n",
       "4        5       AFRICAN EGG   \n",
       "\n",
       "                                         description  release_year  \\\n",
       "0  A Epic Drama of a Feminist And a Mad Scientist...          2006   \n",
       "1  A Astounding Epistle of a Database Administrat...          2006   \n",
       "2  A Astounding Reflection of a Lumberjack And a ...          2006   \n",
       "3  A Fanciful Documentary of a Frisbee And a Lumb...          2006   \n",
       "4  A Fast-Paced Documentary of a Pastry Chef And ...          2006   \n",
       "\n",
       "   language_id  original_language_id  rental_duration  rental_rate  length  \\\n",
       "0            1                   1.0                6         0.99      86   \n",
       "1            1                   1.0                3         4.99      48   \n",
       "2            1                   1.0                7         2.99      50   \n",
       "3            1                   1.0                5         2.99     117   \n",
       "4            1                   1.0                6         2.99     130   \n",
       "\n",
       "   replacement_cost rating                  special_features  \\\n",
       "0             20.99     PG  Deleted Scenes,Behind the Scenes   \n",
       "1             12.99      G           Trailers,Deleted Scenes   \n",
       "2             18.99  NC-17           Trailers,Deleted Scenes   \n",
       "3             26.99      G    Commentaries,Behind the Scenes   \n",
       "4             22.99      G                    Deleted Scenes   \n",
       "\n",
       "           last_update  \n",
       "0  2006-02-15 05:03:42  \n",
       "1  2006-02-15 05:03:42  \n",
       "2  2006-02-15 05:03:42  \n",
       "3  2006-02-15 05:03:42  \n",
       "4  2006-02-15 05:03:42  "
      ]
     },
     "execution_count": 95,
     "metadata": {},
     "output_type": "execute_result"
    }
   ],
   "source": [
    "filmdf.head()"
   ]
  },
  {
   "cell_type": "markdown",
   "id": "4f93db66",
   "metadata": {},
   "source": [
    "As we can see, my new columns work but the values have a float type that I am not keen on, so I am going to change them into int64."
   ]
  },
  {
   "cell_type": "code",
   "execution_count": 96,
   "id": "e3841bc9",
   "metadata": {},
   "outputs": [
    {
     "data": {
      "text/plain": [
       "film_id                   int64\n",
       "title                    object\n",
       "description              object\n",
       "release_year              int64\n",
       "language_id               int64\n",
       "original_language_id    float64\n",
       "rental_duration           int64\n",
       "rental_rate             float64\n",
       "length                    int64\n",
       "replacement_cost        float64\n",
       "rating                   object\n",
       "special_features         object\n",
       "last_update              object\n",
       "dtype: object"
      ]
     },
     "execution_count": 96,
     "metadata": {},
     "output_type": "execute_result"
    }
   ],
   "source": [
    "filmdf.dtypes"
   ]
  },
  {
   "cell_type": "code",
   "execution_count": 97,
   "id": "04bc38f5",
   "metadata": {},
   "outputs": [],
   "source": [
    "filmdf['original_language_id'] = filmdf.original_language_id.astype('int64')"
   ]
  },
  {
   "cell_type": "code",
   "execution_count": 98,
   "id": "038269e5",
   "metadata": {},
   "outputs": [],
   "source": [
    "filmdf = filmdf.fillna(0)"
   ]
  },
  {
   "cell_type": "code",
   "execution_count": 99,
   "id": "37fc73cf",
   "metadata": {},
   "outputs": [
    {
     "data": {
      "text/html": [
       "<div>\n",
       "<style scoped>\n",
       "    .dataframe tbody tr th:only-of-type {\n",
       "        vertical-align: middle;\n",
       "    }\n",
       "\n",
       "    .dataframe tbody tr th {\n",
       "        vertical-align: top;\n",
       "    }\n",
       "\n",
       "    .dataframe thead th {\n",
       "        text-align: right;\n",
       "    }\n",
       "</style>\n",
       "<table border=\"1\" class=\"dataframe\">\n",
       "  <thead>\n",
       "    <tr style=\"text-align: right;\">\n",
       "      <th></th>\n",
       "      <th>film_id</th>\n",
       "      <th>title</th>\n",
       "      <th>description</th>\n",
       "      <th>release_year</th>\n",
       "      <th>language_id</th>\n",
       "      <th>original_language_id</th>\n",
       "      <th>rental_duration</th>\n",
       "      <th>rental_rate</th>\n",
       "      <th>length</th>\n",
       "      <th>replacement_cost</th>\n",
       "      <th>rating</th>\n",
       "      <th>special_features</th>\n",
       "      <th>last_update</th>\n",
       "    </tr>\n",
       "  </thead>\n",
       "  <tbody>\n",
       "    <tr>\n",
       "      <th>0</th>\n",
       "      <td>1</td>\n",
       "      <td>ACADEMY DINOSAUR</td>\n",
       "      <td>A Epic Drama of a Feminist And a Mad Scientist...</td>\n",
       "      <td>2006</td>\n",
       "      <td>1</td>\n",
       "      <td>1</td>\n",
       "      <td>6</td>\n",
       "      <td>0.99</td>\n",
       "      <td>86</td>\n",
       "      <td>20.99</td>\n",
       "      <td>PG</td>\n",
       "      <td>Deleted Scenes,Behind the Scenes</td>\n",
       "      <td>2006-02-15 05:03:42</td>\n",
       "    </tr>\n",
       "    <tr>\n",
       "      <th>1</th>\n",
       "      <td>2</td>\n",
       "      <td>ACE GOLDFINGER</td>\n",
       "      <td>A Astounding Epistle of a Database Administrat...</td>\n",
       "      <td>2006</td>\n",
       "      <td>1</td>\n",
       "      <td>1</td>\n",
       "      <td>3</td>\n",
       "      <td>4.99</td>\n",
       "      <td>48</td>\n",
       "      <td>12.99</td>\n",
       "      <td>G</td>\n",
       "      <td>Trailers,Deleted Scenes</td>\n",
       "      <td>2006-02-15 05:03:42</td>\n",
       "    </tr>\n",
       "    <tr>\n",
       "      <th>2</th>\n",
       "      <td>3</td>\n",
       "      <td>ADAPTATION HOLES</td>\n",
       "      <td>A Astounding Reflection of a Lumberjack And a ...</td>\n",
       "      <td>2006</td>\n",
       "      <td>1</td>\n",
       "      <td>1</td>\n",
       "      <td>7</td>\n",
       "      <td>2.99</td>\n",
       "      <td>50</td>\n",
       "      <td>18.99</td>\n",
       "      <td>NC-17</td>\n",
       "      <td>Trailers,Deleted Scenes</td>\n",
       "      <td>2006-02-15 05:03:42</td>\n",
       "    </tr>\n",
       "    <tr>\n",
       "      <th>3</th>\n",
       "      <td>4</td>\n",
       "      <td>AFFAIR PREJUDICE</td>\n",
       "      <td>A Fanciful Documentary of a Frisbee And a Lumb...</td>\n",
       "      <td>2006</td>\n",
       "      <td>1</td>\n",
       "      <td>1</td>\n",
       "      <td>5</td>\n",
       "      <td>2.99</td>\n",
       "      <td>117</td>\n",
       "      <td>26.99</td>\n",
       "      <td>G</td>\n",
       "      <td>Commentaries,Behind the Scenes</td>\n",
       "      <td>2006-02-15 05:03:42</td>\n",
       "    </tr>\n",
       "    <tr>\n",
       "      <th>4</th>\n",
       "      <td>5</td>\n",
       "      <td>AFRICAN EGG</td>\n",
       "      <td>A Fast-Paced Documentary of a Pastry Chef And ...</td>\n",
       "      <td>2006</td>\n",
       "      <td>1</td>\n",
       "      <td>1</td>\n",
       "      <td>6</td>\n",
       "      <td>2.99</td>\n",
       "      <td>130</td>\n",
       "      <td>22.99</td>\n",
       "      <td>G</td>\n",
       "      <td>Deleted Scenes</td>\n",
       "      <td>2006-02-15 05:03:42</td>\n",
       "    </tr>\n",
       "  </tbody>\n",
       "</table>\n",
       "</div>"
      ],
      "text/plain": [
       "   film_id             title  \\\n",
       "0        1  ACADEMY DINOSAUR   \n",
       "1        2    ACE GOLDFINGER   \n",
       "2        3  ADAPTATION HOLES   \n",
       "3        4  AFFAIR PREJUDICE   \n",
       "4        5       AFRICAN EGG   \n",
       "\n",
       "                                         description  release_year  \\\n",
       "0  A Epic Drama of a Feminist And a Mad Scientist...          2006   \n",
       "1  A Astounding Epistle of a Database Administrat...          2006   \n",
       "2  A Astounding Reflection of a Lumberjack And a ...          2006   \n",
       "3  A Fanciful Documentary of a Frisbee And a Lumb...          2006   \n",
       "4  A Fast-Paced Documentary of a Pastry Chef And ...          2006   \n",
       "\n",
       "   language_id  original_language_id  rental_duration  rental_rate  length  \\\n",
       "0            1                     1                6         0.99      86   \n",
       "1            1                     1                3         4.99      48   \n",
       "2            1                     1                7         2.99      50   \n",
       "3            1                     1                5         2.99     117   \n",
       "4            1                     1                6         2.99     130   \n",
       "\n",
       "   replacement_cost rating                  special_features  \\\n",
       "0             20.99     PG  Deleted Scenes,Behind the Scenes   \n",
       "1             12.99      G           Trailers,Deleted Scenes   \n",
       "2             18.99  NC-17           Trailers,Deleted Scenes   \n",
       "3             26.99      G    Commentaries,Behind the Scenes   \n",
       "4             22.99      G                    Deleted Scenes   \n",
       "\n",
       "           last_update  \n",
       "0  2006-02-15 05:03:42  \n",
       "1  2006-02-15 05:03:42  \n",
       "2  2006-02-15 05:03:42  \n",
       "3  2006-02-15 05:03:42  \n",
       "4  2006-02-15 05:03:42  "
      ]
     },
     "execution_count": 99,
     "metadata": {},
     "output_type": "execute_result"
    }
   ],
   "source": [
    "filmdf.head()"
   ]
  },
  {
   "cell_type": "code",
   "execution_count": 100,
   "id": "5b3591bf",
   "metadata": {},
   "outputs": [],
   "source": [
    "new_filmsdf = filmdf.drop_duplicates()"
   ]
  },
  {
   "cell_type": "code",
   "execution_count": 101,
   "id": "eda4bc61",
   "metadata": {},
   "outputs": [
    {
     "name": "stdout",
     "output_type": "stream",
     "text": [
      "N nan cols: 0\n",
      "Series([], dtype: float64)\n"
     ]
    },
    {
     "data": {
      "image/png": "[encoded data removed]",
      "text/plain": [
       "<Figure size 1000x600 with 1 Axes>"
      ]
     },
     "metadata": {},
     "output_type": "display_data"
    }
   ],
   "source": [
    "ckna(new_filmsdf)"
   ]
  },
  {
   "cell_type": "markdown",
   "id": "4707c225",
   "metadata": {},
   "source": [
    "Next data frame is INVENTORY:"
   ]
  },
  {
   "cell_type": "code",
   "execution_count": 102,
   "id": "5a03c317",
   "metadata": {},
   "outputs": [
    {
     "data": {
      "text/html": [
       "<div>\n",
       "<style scoped>\n",
       "    .dataframe tbody tr th:only-of-type {\n",
       "        vertical-align: middle;\n",
       "    }\n",
       "\n",
       "    .dataframe tbody tr th {\n",
       "        vertical-align: top;\n",
       "    }\n",
       "\n",
       "    .dataframe thead th {\n",
       "        text-align: right;\n",
       "    }\n",
       "</style>\n",
       "<table border=\"1\" class=\"dataframe\">\n",
       "  <thead>\n",
       "    <tr style=\"text-align: right;\">\n",
       "      <th></th>\n",
       "      <th>inventory_id</th>\n",
       "      <th>film_id</th>\n",
       "      <th>store_id</th>\n",
       "      <th>last_update</th>\n",
       "    </tr>\n",
       "  </thead>\n",
       "  <tbody>\n",
       "    <tr>\n",
       "      <th>0</th>\n",
       "      <td>1</td>\n",
       "      <td>1</td>\n",
       "      <td>1</td>\n",
       "      <td>2006-02-15 05:09:17</td>\n",
       "    </tr>\n",
       "    <tr>\n",
       "      <th>1</th>\n",
       "      <td>2</td>\n",
       "      <td>1</td>\n",
       "      <td>1</td>\n",
       "      <td>2006-02-15 05:09:17</td>\n",
       "    </tr>\n",
       "    <tr>\n",
       "      <th>2</th>\n",
       "      <td>3</td>\n",
       "      <td>1</td>\n",
       "      <td>1</td>\n",
       "      <td>2006-02-15 05:09:17</td>\n",
       "    </tr>\n",
       "    <tr>\n",
       "      <th>3</th>\n",
       "      <td>4</td>\n",
       "      <td>1</td>\n",
       "      <td>1</td>\n",
       "      <td>2006-02-15 05:09:17</td>\n",
       "    </tr>\n",
       "    <tr>\n",
       "      <th>4</th>\n",
       "      <td>5</td>\n",
       "      <td>1</td>\n",
       "      <td>2</td>\n",
       "      <td>2006-02-15 05:09:17</td>\n",
       "    </tr>\n",
       "  </tbody>\n",
       "</table>\n",
       "</div>"
      ],
      "text/plain": [
       "   inventory_id  film_id  store_id          last_update\n",
       "0             1        1         1  2006-02-15 05:09:17\n",
       "1             2        1         1  2006-02-15 05:09:17\n",
       "2             3        1         1  2006-02-15 05:09:17\n",
       "3             4        1         1  2006-02-15 05:09:17\n",
       "4             5        1         2  2006-02-15 05:09:17"
      ]
     },
     "execution_count": 102,
     "metadata": {},
     "output_type": "execute_result"
    }
   ],
   "source": [
    "invdf.head()"
   ]
  },
  {
   "cell_type": "code",
   "execution_count": 103,
   "id": "31b07121",
   "metadata": {},
   "outputs": [
    {
     "data": {
      "text/plain": [
       "array([1, 2])"
      ]
     },
     "execution_count": 103,
     "metadata": {},
     "output_type": "execute_result"
    }
   ],
   "source": [
    "invdf.store_id.unique()"
   ]
  },
  {
   "cell_type": "code",
   "execution_count": 104,
   "id": "7eb235c1",
   "metadata": {},
   "outputs": [
    {
     "data": {
      "text/plain": [
       "1000"
      ]
     },
     "execution_count": 104,
     "metadata": {},
     "output_type": "execute_result"
    }
   ],
   "source": [
    "len(invdf.inventory_id.unique())"
   ]
  },
  {
   "cell_type": "code",
   "execution_count": 105,
   "id": "7f54bbb3",
   "metadata": {},
   "outputs": [
    {
     "data": {
      "text/plain": [
       "207"
      ]
     },
     "execution_count": 105,
     "metadata": {},
     "output_type": "execute_result"
    }
   ],
   "source": [
    "len(invdf.film_id.unique())"
   ]
  },
  {
   "cell_type": "markdown",
   "id": "cde1fa08",
   "metadata": {},
   "source": [
    "We can see the movies in each store and therefore we can check how many there are and where to find them.\n",
    "\n",
    "As we can see, there are only two store IDs so I am going to take into consideration that there are two stores and that this table would help me check if there are any available copies in case someone asks.\n",
    "\n",
    "Alse we see that there are a total of 1000 movies in the videoclub, well, being honest there are 1000 copies. Because individual movies there are only 207 movies."
   ]
  },
  {
   "cell_type": "code",
   "execution_count": 106,
   "id": "895640fc",
   "metadata": {},
   "outputs": [
    {
     "data": {
      "text/plain": [
       "film_id  store_id\n",
       "1        1           4\n",
       "         2           4\n",
       "2        2           3\n",
       "3        2           4\n",
       "4        1           4\n",
       "                    ..\n",
       "220      1           4\n",
       "         2           4\n",
       "222      1           2\n",
       "         2           4\n",
       "223      2           2\n",
       "Name: inventory_id, Length: 329, dtype: int64"
      ]
     },
     "execution_count": 106,
     "metadata": {},
     "output_type": "execute_result"
    }
   ],
   "source": [
    "invdf.groupby(['film_id', 'store_id']).count()['inventory_id'] #whith a simple groupby I can check the amount of copies of each film in each store."
   ]
  },
  {
   "cell_type": "code",
   "execution_count": 107,
   "id": "866649d3",
   "metadata": {},
   "outputs": [],
   "source": [
    "newinventorydf = invdf.drop_duplicates()"
   ]
  },
  {
   "cell_type": "code",
   "execution_count": 108,
   "id": "4a105edc",
   "metadata": {},
   "outputs": [
    {
     "name": "stdout",
     "output_type": "stream",
     "text": [
      "N nan cols: 0\n",
      "Series([], dtype: float64)\n"
     ]
    },
    {
     "data": {
      "image/png": "[encoded data removed]",
      "text/plain": [
       "<Figure size 1000x600 with 1 Axes>"
      ]
     },
     "metadata": {},
     "output_type": "display_data"
    }
   ],
   "source": [
    "ckna(newinventorydf)"
   ]
  },
  {
   "cell_type": "markdown",
   "id": "4ad56485",
   "metadata": {},
   "source": [
    "Let's have a look at the old database:\n",
    "OLD_HDD is a table with some info regarding movies and the actors that played the part. "
   ]
  },
  {
   "cell_type": "code",
   "execution_count": 109,
   "id": "e4c1a11c",
   "metadata": {},
   "outputs": [
    {
     "data": {
      "text/html": [
       "<div>\n",
       "<style scoped>\n",
       "    .dataframe tbody tr th:only-of-type {\n",
       "        vertical-align: middle;\n",
       "    }\n",
       "\n",
       "    .dataframe tbody tr th {\n",
       "        vertical-align: top;\n",
       "    }\n",
       "\n",
       "    .dataframe thead th {\n",
       "        text-align: right;\n",
       "    }\n",
       "</style>\n",
       "<table border=\"1\" class=\"dataframe\">\n",
       "  <thead>\n",
       "    <tr style=\"text-align: right;\">\n",
       "      <th></th>\n",
       "      <th>first_name</th>\n",
       "      <th>last_name</th>\n",
       "      <th>title</th>\n",
       "      <th>release_year</th>\n",
       "      <th>category_id</th>\n",
       "    </tr>\n",
       "  </thead>\n",
       "  <tbody>\n",
       "    <tr>\n",
       "      <th>0</th>\n",
       "      <td>PENELOPE</td>\n",
       "      <td>GUINESS</td>\n",
       "      <td>ACADEMY DINOSAUR</td>\n",
       "      <td>2006</td>\n",
       "      <td>6</td>\n",
       "    </tr>\n",
       "    <tr>\n",
       "      <th>1</th>\n",
       "      <td>PENELOPE</td>\n",
       "      <td>GUINESS</td>\n",
       "      <td>ANACONDA CONFESSIONS</td>\n",
       "      <td>2006</td>\n",
       "      <td>2</td>\n",
       "    </tr>\n",
       "    <tr>\n",
       "      <th>2</th>\n",
       "      <td>PENELOPE</td>\n",
       "      <td>GUINESS</td>\n",
       "      <td>ANGELS LIFE</td>\n",
       "      <td>2006</td>\n",
       "      <td>13</td>\n",
       "    </tr>\n",
       "    <tr>\n",
       "      <th>3</th>\n",
       "      <td>PENELOPE</td>\n",
       "      <td>GUINESS</td>\n",
       "      <td>BULWORTH COMMANDMENTS</td>\n",
       "      <td>2006</td>\n",
       "      <td>10</td>\n",
       "    </tr>\n",
       "    <tr>\n",
       "      <th>4</th>\n",
       "      <td>PENELOPE</td>\n",
       "      <td>GUINESS</td>\n",
       "      <td>CHEAPER CLYDE</td>\n",
       "      <td>2006</td>\n",
       "      <td>14</td>\n",
       "    </tr>\n",
       "  </tbody>\n",
       "</table>\n",
       "</div>"
      ],
      "text/plain": [
       "  first_name last_name                  title  release_year  category_id\n",
       "0   PENELOPE   GUINESS       ACADEMY DINOSAUR          2006            6\n",
       "1   PENELOPE   GUINESS   ANACONDA CONFESSIONS          2006            2\n",
       "2   PENELOPE   GUINESS            ANGELS LIFE          2006           13\n",
       "3   PENELOPE   GUINESS  BULWORTH COMMANDMENTS          2006           10\n",
       "4   PENELOPE   GUINESS          CHEAPER CLYDE          2006           14"
      ]
     },
     "execution_count": 109,
     "metadata": {},
     "output_type": "execute_result"
    }
   ],
   "source": [
    "hdddf.head()"
   ]
  },
  {
   "cell_type": "markdown",
   "id": "4e95407c",
   "metadata": {},
   "source": [
    "It comes with the movie title and it's category. It could be usefull to add a new column with the actor_id and another one with the film_id so I can link it all to the film table and therefore I can have the list of actors and their movies and the category of each one."
   ]
  },
  {
   "cell_type": "code",
   "execution_count": 110,
   "id": "f054bbcd",
   "metadata": {},
   "outputs": [
    {
     "data": {
      "text/html": [
       "<div>\n",
       "<style scoped>\n",
       "    .dataframe tbody tr th:only-of-type {\n",
       "        vertical-align: middle;\n",
       "    }\n",
       "\n",
       "    .dataframe tbody tr th {\n",
       "        vertical-align: top;\n",
       "    }\n",
       "\n",
       "    .dataframe thead th {\n",
       "        text-align: right;\n",
       "    }\n",
       "</style>\n",
       "<table border=\"1\" class=\"dataframe\">\n",
       "  <thead>\n",
       "    <tr style=\"text-align: right;\">\n",
       "      <th></th>\n",
       "      <th>first_name</th>\n",
       "      <th>last_name</th>\n",
       "      <th>title</th>\n",
       "      <th>release_year</th>\n",
       "      <th>category_id</th>\n",
       "      <th>name</th>\n",
       "    </tr>\n",
       "  </thead>\n",
       "  <tbody>\n",
       "    <tr>\n",
       "      <th>0</th>\n",
       "      <td>PENELOPE</td>\n",
       "      <td>GUINESS</td>\n",
       "      <td>ACADEMY DINOSAUR</td>\n",
       "      <td>2006</td>\n",
       "      <td>6</td>\n",
       "      <td>PENELOPE GUINESS</td>\n",
       "    </tr>\n",
       "    <tr>\n",
       "      <th>1</th>\n",
       "      <td>PENELOPE</td>\n",
       "      <td>GUINESS</td>\n",
       "      <td>ANACONDA CONFESSIONS</td>\n",
       "      <td>2006</td>\n",
       "      <td>2</td>\n",
       "      <td>PENELOPE GUINESS</td>\n",
       "    </tr>\n",
       "    <tr>\n",
       "      <th>2</th>\n",
       "      <td>PENELOPE</td>\n",
       "      <td>GUINESS</td>\n",
       "      <td>ANGELS LIFE</td>\n",
       "      <td>2006</td>\n",
       "      <td>13</td>\n",
       "      <td>PENELOPE GUINESS</td>\n",
       "    </tr>\n",
       "    <tr>\n",
       "      <th>3</th>\n",
       "      <td>PENELOPE</td>\n",
       "      <td>GUINESS</td>\n",
       "      <td>BULWORTH COMMANDMENTS</td>\n",
       "      <td>2006</td>\n",
       "      <td>10</td>\n",
       "      <td>PENELOPE GUINESS</td>\n",
       "    </tr>\n",
       "    <tr>\n",
       "      <th>4</th>\n",
       "      <td>PENELOPE</td>\n",
       "      <td>GUINESS</td>\n",
       "      <td>CHEAPER CLYDE</td>\n",
       "      <td>2006</td>\n",
       "      <td>14</td>\n",
       "      <td>PENELOPE GUINESS</td>\n",
       "    </tr>\n",
       "  </tbody>\n",
       "</table>\n",
       "</div>"
      ],
      "text/plain": [
       "  first_name last_name                  title  release_year  category_id  \\\n",
       "0   PENELOPE   GUINESS       ACADEMY DINOSAUR          2006            6   \n",
       "1   PENELOPE   GUINESS   ANACONDA CONFESSIONS          2006            2   \n",
       "2   PENELOPE   GUINESS            ANGELS LIFE          2006           13   \n",
       "3   PENELOPE   GUINESS  BULWORTH COMMANDMENTS          2006           10   \n",
       "4   PENELOPE   GUINESS          CHEAPER CLYDE          2006           14   \n",
       "\n",
       "               name  \n",
       "0  PENELOPE GUINESS  \n",
       "1  PENELOPE GUINESS  \n",
       "2  PENELOPE GUINESS  \n",
       "3  PENELOPE GUINESS  \n",
       "4  PENELOPE GUINESS  "
      ]
     },
     "execution_count": 110,
     "metadata": {},
     "output_type": "execute_result"
    }
   ],
   "source": [
    "hdddf['name'] = hdddf[['first_name', 'last_name']].agg(' '.join, axis=1)\n",
    "hdddf.head()"
   ]
  },
  {
   "cell_type": "code",
   "execution_count": 111,
   "id": "08bc02ec",
   "metadata": {},
   "outputs": [
    {
     "data": {
      "text/html": [
       "<div>\n",
       "<style scoped>\n",
       "    .dataframe tbody tr th:only-of-type {\n",
       "        vertical-align: middle;\n",
       "    }\n",
       "\n",
       "    .dataframe tbody tr th {\n",
       "        vertical-align: top;\n",
       "    }\n",
       "\n",
       "    .dataframe thead th {\n",
       "        text-align: right;\n",
       "    }\n",
       "</style>\n",
       "<table border=\"1\" class=\"dataframe\">\n",
       "  <thead>\n",
       "    <tr style=\"text-align: right;\">\n",
       "      <th></th>\n",
       "      <th>actor_id</th>\n",
       "      <th>first_name</th>\n",
       "      <th>last_name</th>\n",
       "      <th>last_update</th>\n",
       "      <th>name</th>\n",
       "    </tr>\n",
       "  </thead>\n",
       "  <tbody>\n",
       "    <tr>\n",
       "      <th>0</th>\n",
       "      <td>1</td>\n",
       "      <td>PENELOPE</td>\n",
       "      <td>GUINESS</td>\n",
       "      <td>2006-02-15 04:34:33</td>\n",
       "      <td>PENELOPE GUINESS</td>\n",
       "    </tr>\n",
       "    <tr>\n",
       "      <th>1</th>\n",
       "      <td>2</td>\n",
       "      <td>NICK</td>\n",
       "      <td>WAHLBERG</td>\n",
       "      <td>2006-02-15 04:34:33</td>\n",
       "      <td>NICK WAHLBERG</td>\n",
       "    </tr>\n",
       "    <tr>\n",
       "      <th>2</th>\n",
       "      <td>3</td>\n",
       "      <td>ED</td>\n",
       "      <td>CHASE</td>\n",
       "      <td>2006-02-15 04:34:33</td>\n",
       "      <td>ED CHASE</td>\n",
       "    </tr>\n",
       "    <tr>\n",
       "      <th>3</th>\n",
       "      <td>4</td>\n",
       "      <td>JENNIFER</td>\n",
       "      <td>DAVIS</td>\n",
       "      <td>2006-02-15 04:34:33</td>\n",
       "      <td>JENNIFER DAVIS</td>\n",
       "    </tr>\n",
       "    <tr>\n",
       "      <th>4</th>\n",
       "      <td>5</td>\n",
       "      <td>JOHNNY</td>\n",
       "      <td>LOLLOBRIGIDA</td>\n",
       "      <td>2006-02-15 04:34:33</td>\n",
       "      <td>JOHNNY LOLLOBRIGIDA</td>\n",
       "    </tr>\n",
       "  </tbody>\n",
       "</table>\n",
       "</div>"
      ],
      "text/plain": [
       "   actor_id first_name     last_name          last_update                 name\n",
       "0         1   PENELOPE       GUINESS  2006-02-15 04:34:33     PENELOPE GUINESS\n",
       "1         2       NICK      WAHLBERG  2006-02-15 04:34:33        NICK WAHLBERG\n",
       "2         3         ED         CHASE  2006-02-15 04:34:33             ED CHASE\n",
       "3         4   JENNIFER         DAVIS  2006-02-15 04:34:33       JENNIFER DAVIS\n",
       "4         5     JOHNNY  LOLLOBRIGIDA  2006-02-15 04:34:33  JOHNNY LOLLOBRIGIDA"
      ]
     },
     "execution_count": 111,
     "metadata": {},
     "output_type": "execute_result"
    }
   ],
   "source": [
    "acdf['name'] = acdf[['first_name', 'last_name']].agg(' '.join, axis=1)\n",
    "acdf.head()"
   ]
  },
  {
   "cell_type": "code",
   "execution_count": 112,
   "id": "14c9baa4",
   "metadata": {},
   "outputs": [
    {
     "data": {
      "text/html": [
       "<div>\n",
       "<style scoped>\n",
       "    .dataframe tbody tr th:only-of-type {\n",
       "        vertical-align: middle;\n",
       "    }\n",
       "\n",
       "    .dataframe tbody tr th {\n",
       "        vertical-align: top;\n",
       "    }\n",
       "\n",
       "    .dataframe thead th {\n",
       "        text-align: right;\n",
       "    }\n",
       "</style>\n",
       "<table border=\"1\" class=\"dataframe\">\n",
       "  <thead>\n",
       "    <tr style=\"text-align: right;\">\n",
       "      <th></th>\n",
       "      <th>first_name_x</th>\n",
       "      <th>last_name_x</th>\n",
       "      <th>title</th>\n",
       "      <th>release_year</th>\n",
       "      <th>category_id</th>\n",
       "      <th>name</th>\n",
       "      <th>actor_id</th>\n",
       "      <th>first_name_y</th>\n",
       "      <th>last_name_y</th>\n",
       "      <th>last_update</th>\n",
       "    </tr>\n",
       "  </thead>\n",
       "  <tbody>\n",
       "    <tr>\n",
       "      <th>0</th>\n",
       "      <td>PENELOPE</td>\n",
       "      <td>GUINESS</td>\n",
       "      <td>ACADEMY DINOSAUR</td>\n",
       "      <td>2006</td>\n",
       "      <td>6</td>\n",
       "      <td>PENELOPE GUINESS</td>\n",
       "      <td>1</td>\n",
       "      <td>PENELOPE</td>\n",
       "      <td>GUINESS</td>\n",
       "      <td>2006-02-15 04:34:33</td>\n",
       "    </tr>\n",
       "    <tr>\n",
       "      <th>1</th>\n",
       "      <td>PENELOPE</td>\n",
       "      <td>GUINESS</td>\n",
       "      <td>ANACONDA CONFESSIONS</td>\n",
       "      <td>2006</td>\n",
       "      <td>2</td>\n",
       "      <td>PENELOPE GUINESS</td>\n",
       "      <td>1</td>\n",
       "      <td>PENELOPE</td>\n",
       "      <td>GUINESS</td>\n",
       "      <td>2006-02-15 04:34:33</td>\n",
       "    </tr>\n",
       "    <tr>\n",
       "      <th>2</th>\n",
       "      <td>PENELOPE</td>\n",
       "      <td>GUINESS</td>\n",
       "      <td>ANGELS LIFE</td>\n",
       "      <td>2006</td>\n",
       "      <td>13</td>\n",
       "      <td>PENELOPE GUINESS</td>\n",
       "      <td>1</td>\n",
       "      <td>PENELOPE</td>\n",
       "      <td>GUINESS</td>\n",
       "      <td>2006-02-15 04:34:33</td>\n",
       "    </tr>\n",
       "    <tr>\n",
       "      <th>3</th>\n",
       "      <td>PENELOPE</td>\n",
       "      <td>GUINESS</td>\n",
       "      <td>BULWORTH COMMANDMENTS</td>\n",
       "      <td>2006</td>\n",
       "      <td>10</td>\n",
       "      <td>PENELOPE GUINESS</td>\n",
       "      <td>1</td>\n",
       "      <td>PENELOPE</td>\n",
       "      <td>GUINESS</td>\n",
       "      <td>2006-02-15 04:34:33</td>\n",
       "    </tr>\n",
       "    <tr>\n",
       "      <th>4</th>\n",
       "      <td>PENELOPE</td>\n",
       "      <td>GUINESS</td>\n",
       "      <td>CHEAPER CLYDE</td>\n",
       "      <td>2006</td>\n",
       "      <td>14</td>\n",
       "      <td>PENELOPE GUINESS</td>\n",
       "      <td>1</td>\n",
       "      <td>PENELOPE</td>\n",
       "      <td>GUINESS</td>\n",
       "      <td>2006-02-15 04:34:33</td>\n",
       "    </tr>\n",
       "  </tbody>\n",
       "</table>\n",
       "</div>"
      ],
      "text/plain": [
       "  first_name_x last_name_x                  title  release_year  category_id  \\\n",
       "0     PENELOPE     GUINESS       ACADEMY DINOSAUR          2006            6   \n",
       "1     PENELOPE     GUINESS   ANACONDA CONFESSIONS          2006            2   \n",
       "2     PENELOPE     GUINESS            ANGELS LIFE          2006           13   \n",
       "3     PENELOPE     GUINESS  BULWORTH COMMANDMENTS          2006           10   \n",
       "4     PENELOPE     GUINESS          CHEAPER CLYDE          2006           14   \n",
       "\n",
       "               name  actor_id first_name_y last_name_y          last_update  \n",
       "0  PENELOPE GUINESS         1     PENELOPE     GUINESS  2006-02-15 04:34:33  \n",
       "1  PENELOPE GUINESS         1     PENELOPE     GUINESS  2006-02-15 04:34:33  \n",
       "2  PENELOPE GUINESS         1     PENELOPE     GUINESS  2006-02-15 04:34:33  \n",
       "3  PENELOPE GUINESS         1     PENELOPE     GUINESS  2006-02-15 04:34:33  \n",
       "4  PENELOPE GUINESS         1     PENELOPE     GUINESS  2006-02-15 04:34:33  "
      ]
     },
     "execution_count": 112,
     "metadata": {},
     "output_type": "execute_result"
    }
   ],
   "source": [
    "actorshdd = pd.merge(hdddf, acdf, on='name', how='left')\n",
    "actorshdd.head()"
   ]
  },
  {
   "cell_type": "code",
   "execution_count": 113,
   "id": "d79ecf4c",
   "metadata": {},
   "outputs": [
    {
     "data": {
      "text/html": [
       "<div>\n",
       "<style scoped>\n",
       "    .dataframe tbody tr th:only-of-type {\n",
       "        vertical-align: middle;\n",
       "    }\n",
       "\n",
       "    .dataframe tbody tr th {\n",
       "        vertical-align: top;\n",
       "    }\n",
       "\n",
       "    .dataframe thead th {\n",
       "        text-align: right;\n",
       "    }\n",
       "</style>\n",
       "<table border=\"1\" class=\"dataframe\">\n",
       "  <thead>\n",
       "    <tr style=\"text-align: right;\">\n",
       "      <th></th>\n",
       "      <th>first_name</th>\n",
       "      <th>last_name</th>\n",
       "      <th>title</th>\n",
       "      <th>release_year</th>\n",
       "      <th>category_id</th>\n",
       "      <th>name</th>\n",
       "      <th>actor_id</th>\n",
       "    </tr>\n",
       "  </thead>\n",
       "  <tbody>\n",
       "    <tr>\n",
       "      <th>0</th>\n",
       "      <td>PENELOPE</td>\n",
       "      <td>GUINESS</td>\n",
       "      <td>ACADEMY DINOSAUR</td>\n",
       "      <td>2006</td>\n",
       "      <td>6</td>\n",
       "      <td>PENELOPE GUINESS</td>\n",
       "      <td>1</td>\n",
       "    </tr>\n",
       "    <tr>\n",
       "      <th>1</th>\n",
       "      <td>PENELOPE</td>\n",
       "      <td>GUINESS</td>\n",
       "      <td>ANACONDA CONFESSIONS</td>\n",
       "      <td>2006</td>\n",
       "      <td>2</td>\n",
       "      <td>PENELOPE GUINESS</td>\n",
       "      <td>1</td>\n",
       "    </tr>\n",
       "    <tr>\n",
       "      <th>2</th>\n",
       "      <td>PENELOPE</td>\n",
       "      <td>GUINESS</td>\n",
       "      <td>ANGELS LIFE</td>\n",
       "      <td>2006</td>\n",
       "      <td>13</td>\n",
       "      <td>PENELOPE GUINESS</td>\n",
       "      <td>1</td>\n",
       "    </tr>\n",
       "    <tr>\n",
       "      <th>3</th>\n",
       "      <td>PENELOPE</td>\n",
       "      <td>GUINESS</td>\n",
       "      <td>BULWORTH COMMANDMENTS</td>\n",
       "      <td>2006</td>\n",
       "      <td>10</td>\n",
       "      <td>PENELOPE GUINESS</td>\n",
       "      <td>1</td>\n",
       "    </tr>\n",
       "    <tr>\n",
       "      <th>4</th>\n",
       "      <td>PENELOPE</td>\n",
       "      <td>GUINESS</td>\n",
       "      <td>CHEAPER CLYDE</td>\n",
       "      <td>2006</td>\n",
       "      <td>14</td>\n",
       "      <td>PENELOPE GUINESS</td>\n",
       "      <td>1</td>\n",
       "    </tr>\n",
       "  </tbody>\n",
       "</table>\n",
       "</div>"
      ],
      "text/plain": [
       "  first_name last_name                  title  release_year  category_id  \\\n",
       "0   PENELOPE   GUINESS       ACADEMY DINOSAUR          2006            6   \n",
       "1   PENELOPE   GUINESS   ANACONDA CONFESSIONS          2006            2   \n",
       "2   PENELOPE   GUINESS            ANGELS LIFE          2006           13   \n",
       "3   PENELOPE   GUINESS  BULWORTH COMMANDMENTS          2006           10   \n",
       "4   PENELOPE   GUINESS          CHEAPER CLYDE          2006           14   \n",
       "\n",
       "               name  actor_id  \n",
       "0  PENELOPE GUINESS         1  \n",
       "1  PENELOPE GUINESS         1  \n",
       "2  PENELOPE GUINESS         1  \n",
       "3  PENELOPE GUINESS         1  \n",
       "4  PENELOPE GUINESS         1  "
      ]
     },
     "execution_count": 113,
     "metadata": {},
     "output_type": "execute_result"
    }
   ],
   "source": [
    "hdddf['actor_id'] = actorshdd['actor_id']\n",
    "hdddf.head()"
   ]
  },
  {
   "cell_type": "markdown",
   "id": "6cc59c6c",
   "metadata": {},
   "source": [
    "This way I can link it now to the film table and add the actor ID. Why? Because sometimes people wants to watch movies from an actor who they like.\n",
    "\n",
    "And last but not least I can take the language_id from the film table and drop it here to finish creating my many to many relationships."
   ]
  },
  {
   "cell_type": "code",
   "execution_count": 114,
   "id": "a174e708",
   "metadata": {},
   "outputs": [
    {
     "data": {
      "text/html": [
       "<div>\n",
       "<style scoped>\n",
       "    .dataframe tbody tr th:only-of-type {\n",
       "        vertical-align: middle;\n",
       "    }\n",
       "\n",
       "    .dataframe tbody tr th {\n",
       "        vertical-align: top;\n",
       "    }\n",
       "\n",
       "    .dataframe thead th {\n",
       "        text-align: right;\n",
       "    }\n",
       "</style>\n",
       "<table border=\"1\" class=\"dataframe\">\n",
       "  <thead>\n",
       "    <tr style=\"text-align: right;\">\n",
       "      <th></th>\n",
       "      <th>first_name</th>\n",
       "      <th>last_name</th>\n",
       "      <th>title</th>\n",
       "      <th>release_year_x</th>\n",
       "      <th>category_id</th>\n",
       "      <th>name</th>\n",
       "      <th>actor_id</th>\n",
       "      <th>film_id</th>\n",
       "      <th>description</th>\n",
       "      <th>release_year_y</th>\n",
       "      <th>language_id</th>\n",
       "      <th>original_language_id</th>\n",
       "      <th>rental_duration</th>\n",
       "      <th>rental_rate</th>\n",
       "      <th>length</th>\n",
       "      <th>replacement_cost</th>\n",
       "      <th>rating</th>\n",
       "      <th>special_features</th>\n",
       "      <th>last_update</th>\n",
       "    </tr>\n",
       "  </thead>\n",
       "  <tbody>\n",
       "    <tr>\n",
       "      <th>0</th>\n",
       "      <td>PENELOPE</td>\n",
       "      <td>GUINESS</td>\n",
       "      <td>ACADEMY DINOSAUR</td>\n",
       "      <td>2006</td>\n",
       "      <td>6</td>\n",
       "      <td>PENELOPE GUINESS</td>\n",
       "      <td>1</td>\n",
       "      <td>1</td>\n",
       "      <td>A Epic Drama of a Feminist And a Mad Scientist...</td>\n",
       "      <td>2006</td>\n",
       "      <td>1</td>\n",
       "      <td>1</td>\n",
       "      <td>6</td>\n",
       "      <td>0.99</td>\n",
       "      <td>86</td>\n",
       "      <td>20.99</td>\n",
       "      <td>PG</td>\n",
       "      <td>Deleted Scenes,Behind the Scenes</td>\n",
       "      <td>2006-02-15 05:03:42</td>\n",
       "    </tr>\n",
       "    <tr>\n",
       "      <th>1</th>\n",
       "      <td>PENELOPE</td>\n",
       "      <td>GUINESS</td>\n",
       "      <td>ANACONDA CONFESSIONS</td>\n",
       "      <td>2006</td>\n",
       "      <td>2</td>\n",
       "      <td>PENELOPE GUINESS</td>\n",
       "      <td>1</td>\n",
       "      <td>23</td>\n",
       "      <td>A Lacklusture Display of a Dentist And a Denti...</td>\n",
       "      <td>2006</td>\n",
       "      <td>1</td>\n",
       "      <td>1</td>\n",
       "      <td>3</td>\n",
       "      <td>0.99</td>\n",
       "      <td>92</td>\n",
       "      <td>9.99</td>\n",
       "      <td>R</td>\n",
       "      <td>Trailers,Deleted Scenes</td>\n",
       "      <td>2006-02-15 05:03:42</td>\n",
       "    </tr>\n",
       "    <tr>\n",
       "      <th>2</th>\n",
       "      <td>PENELOPE</td>\n",
       "      <td>GUINESS</td>\n",
       "      <td>ANGELS LIFE</td>\n",
       "      <td>2006</td>\n",
       "      <td>13</td>\n",
       "      <td>PENELOPE GUINESS</td>\n",
       "      <td>1</td>\n",
       "      <td>25</td>\n",
       "      <td>A Thoughtful Display of a Woman And a Astronau...</td>\n",
       "      <td>2006</td>\n",
       "      <td>1</td>\n",
       "      <td>1</td>\n",
       "      <td>3</td>\n",
       "      <td>2.99</td>\n",
       "      <td>74</td>\n",
       "      <td>15.99</td>\n",
       "      <td>G</td>\n",
       "      <td>Trailers</td>\n",
       "      <td>2006-02-15 05:03:42</td>\n",
       "    </tr>\n",
       "    <tr>\n",
       "      <th>3</th>\n",
       "      <td>PENELOPE</td>\n",
       "      <td>GUINESS</td>\n",
       "      <td>BULWORTH COMMANDMENTS</td>\n",
       "      <td>2006</td>\n",
       "      <td>10</td>\n",
       "      <td>PENELOPE GUINESS</td>\n",
       "      <td>1</td>\n",
       "      <td>106</td>\n",
       "      <td>A Amazing Display of a Mad Cow And a Pioneer w...</td>\n",
       "      <td>2006</td>\n",
       "      <td>1</td>\n",
       "      <td>1</td>\n",
       "      <td>4</td>\n",
       "      <td>2.99</td>\n",
       "      <td>61</td>\n",
       "      <td>14.99</td>\n",
       "      <td>G</td>\n",
       "      <td>Trailers</td>\n",
       "      <td>2006-02-15 05:03:42</td>\n",
       "    </tr>\n",
       "    <tr>\n",
       "      <th>4</th>\n",
       "      <td>PENELOPE</td>\n",
       "      <td>GUINESS</td>\n",
       "      <td>CHEAPER CLYDE</td>\n",
       "      <td>2006</td>\n",
       "      <td>14</td>\n",
       "      <td>PENELOPE GUINESS</td>\n",
       "      <td>1</td>\n",
       "      <td>140</td>\n",
       "      <td>A Emotional Character Study of a Pioneer And a...</td>\n",
       "      <td>2006</td>\n",
       "      <td>1</td>\n",
       "      <td>1</td>\n",
       "      <td>6</td>\n",
       "      <td>0.99</td>\n",
       "      <td>87</td>\n",
       "      <td>23.99</td>\n",
       "      <td>G</td>\n",
       "      <td>Trailers,Commentaries,Behind the Scenes</td>\n",
       "      <td>2006-02-15 05:03:42</td>\n",
       "    </tr>\n",
       "  </tbody>\n",
       "</table>\n",
       "</div>"
      ],
      "text/plain": [
       "  first_name last_name                  title  release_year_x  category_id  \\\n",
       "0   PENELOPE   GUINESS       ACADEMY DINOSAUR            2006            6   \n",
       "1   PENELOPE   GUINESS   ANACONDA CONFESSIONS            2006            2   \n",
       "2   PENELOPE   GUINESS            ANGELS LIFE            2006           13   \n",
       "3   PENELOPE   GUINESS  BULWORTH COMMANDMENTS            2006           10   \n",
       "4   PENELOPE   GUINESS          CHEAPER CLYDE            2006           14   \n",
       "\n",
       "               name  actor_id  film_id  \\\n",
       "0  PENELOPE GUINESS         1        1   \n",
       "1  PENELOPE GUINESS         1       23   \n",
       "2  PENELOPE GUINESS         1       25   \n",
       "3  PENELOPE GUINESS         1      106   \n",
       "4  PENELOPE GUINESS         1      140   \n",
       "\n",
       "                                         description  release_year_y  \\\n",
       "0  A Epic Drama of a Feminist And a Mad Scientist...            2006   \n",
       "1  A Lacklusture Display of a Dentist And a Denti...            2006   \n",
       "2  A Thoughtful Display of a Woman And a Astronau...            2006   \n",
       "3  A Amazing Display of a Mad Cow And a Pioneer w...            2006   \n",
       "4  A Emotional Character Study of a Pioneer And a...            2006   \n",
       "\n",
       "   language_id  original_language_id  rental_duration  rental_rate  length  \\\n",
       "0            1                     1                6         0.99      86   \n",
       "1            1                     1                3         0.99      92   \n",
       "2            1                     1                3         2.99      74   \n",
       "3            1                     1                4         2.99      61   \n",
       "4            1                     1                6         0.99      87   \n",
       "\n",
       "   replacement_cost rating                         special_features  \\\n",
       "0             20.99     PG         Deleted Scenes,Behind the Scenes   \n",
       "1              9.99      R                  Trailers,Deleted Scenes   \n",
       "2             15.99      G                                 Trailers   \n",
       "3             14.99      G                                 Trailers   \n",
       "4             23.99      G  Trailers,Commentaries,Behind the Scenes   \n",
       "\n",
       "           last_update  \n",
       "0  2006-02-15 05:03:42  \n",
       "1  2006-02-15 05:03:42  \n",
       "2  2006-02-15 05:03:42  \n",
       "3  2006-02-15 05:03:42  \n",
       "4  2006-02-15 05:03:42  "
      ]
     },
     "execution_count": 114,
     "metadata": {},
     "output_type": "execute_result"
    }
   ],
   "source": [
    "filmslanguage = pd.merge(hdddf, filmdf, on= 'title', how= 'left')\n",
    "filmslanguage.head()\n"
   ]
  },
  {
   "cell_type": "code",
   "execution_count": 115,
   "id": "3e475bef",
   "metadata": {},
   "outputs": [
    {
     "data": {
      "text/html": [
       "<div>\n",
       "<style scoped>\n",
       "    .dataframe tbody tr th:only-of-type {\n",
       "        vertical-align: middle;\n",
       "    }\n",
       "\n",
       "    .dataframe tbody tr th {\n",
       "        vertical-align: top;\n",
       "    }\n",
       "\n",
       "    .dataframe thead th {\n",
       "        text-align: right;\n",
       "    }\n",
       "</style>\n",
       "<table border=\"1\" class=\"dataframe\">\n",
       "  <thead>\n",
       "    <tr style=\"text-align: right;\">\n",
       "      <th></th>\n",
       "      <th>first_name</th>\n",
       "      <th>last_name</th>\n",
       "      <th>title</th>\n",
       "      <th>release_year</th>\n",
       "      <th>category_id</th>\n",
       "      <th>name</th>\n",
       "      <th>actor_id</th>\n",
       "      <th>lang_id</th>\n",
       "      <th>film_id</th>\n",
       "    </tr>\n",
       "  </thead>\n",
       "  <tbody>\n",
       "    <tr>\n",
       "      <th>0</th>\n",
       "      <td>PENELOPE</td>\n",
       "      <td>GUINESS</td>\n",
       "      <td>ACADEMY DINOSAUR</td>\n",
       "      <td>2006</td>\n",
       "      <td>6</td>\n",
       "      <td>PENELOPE GUINESS</td>\n",
       "      <td>1</td>\n",
       "      <td>1</td>\n",
       "      <td>1</td>\n",
       "    </tr>\n",
       "    <tr>\n",
       "      <th>1</th>\n",
       "      <td>PENELOPE</td>\n",
       "      <td>GUINESS</td>\n",
       "      <td>ANACONDA CONFESSIONS</td>\n",
       "      <td>2006</td>\n",
       "      <td>2</td>\n",
       "      <td>PENELOPE GUINESS</td>\n",
       "      <td>1</td>\n",
       "      <td>1</td>\n",
       "      <td>23</td>\n",
       "    </tr>\n",
       "    <tr>\n",
       "      <th>2</th>\n",
       "      <td>PENELOPE</td>\n",
       "      <td>GUINESS</td>\n",
       "      <td>ANGELS LIFE</td>\n",
       "      <td>2006</td>\n",
       "      <td>13</td>\n",
       "      <td>PENELOPE GUINESS</td>\n",
       "      <td>1</td>\n",
       "      <td>1</td>\n",
       "      <td>25</td>\n",
       "    </tr>\n",
       "    <tr>\n",
       "      <th>3</th>\n",
       "      <td>PENELOPE</td>\n",
       "      <td>GUINESS</td>\n",
       "      <td>BULWORTH COMMANDMENTS</td>\n",
       "      <td>2006</td>\n",
       "      <td>10</td>\n",
       "      <td>PENELOPE GUINESS</td>\n",
       "      <td>1</td>\n",
       "      <td>1</td>\n",
       "      <td>106</td>\n",
       "    </tr>\n",
       "    <tr>\n",
       "      <th>4</th>\n",
       "      <td>PENELOPE</td>\n",
       "      <td>GUINESS</td>\n",
       "      <td>CHEAPER CLYDE</td>\n",
       "      <td>2006</td>\n",
       "      <td>14</td>\n",
       "      <td>PENELOPE GUINESS</td>\n",
       "      <td>1</td>\n",
       "      <td>1</td>\n",
       "      <td>140</td>\n",
       "    </tr>\n",
       "  </tbody>\n",
       "</table>\n",
       "</div>"
      ],
      "text/plain": [
       "  first_name last_name                  title  release_year  category_id  \\\n",
       "0   PENELOPE   GUINESS       ACADEMY DINOSAUR          2006            6   \n",
       "1   PENELOPE   GUINESS   ANACONDA CONFESSIONS          2006            2   \n",
       "2   PENELOPE   GUINESS            ANGELS LIFE          2006           13   \n",
       "3   PENELOPE   GUINESS  BULWORTH COMMANDMENTS          2006           10   \n",
       "4   PENELOPE   GUINESS          CHEAPER CLYDE          2006           14   \n",
       "\n",
       "               name  actor_id  lang_id  film_id  \n",
       "0  PENELOPE GUINESS         1        1        1  \n",
       "1  PENELOPE GUINESS         1        1       23  \n",
       "2  PENELOPE GUINESS         1        1       25  \n",
       "3  PENELOPE GUINESS         1        1      106  \n",
       "4  PENELOPE GUINESS         1        1      140  "
      ]
     },
     "execution_count": 115,
     "metadata": {},
     "output_type": "execute_result"
    }
   ],
   "source": [
    "hdddf['lang_id'] = filmslanguage['language_id']\n",
    "hdddf['film_id'] = filmslanguage['film_id']\n",
    "hdddf.head()"
   ]
  },
  {
   "cell_type": "code",
   "execution_count": 116,
   "id": "457c4ed2",
   "metadata": {},
   "outputs": [],
   "source": [
    "hdddf = hdddf.reindex(columns=['name', 'last_name', 'first_name', 'title','release_year','category_id','actor_id','lang_id','film_id'])"
   ]
  },
  {
   "cell_type": "markdown",
   "id": "046377e9",
   "metadata": {},
   "source": [
    "We can check now if the hdddf has any Null values and if there are any duplicates and if it is ok we can export it at the end."
   ]
  },
  {
   "cell_type": "code",
   "execution_count": 117,
   "id": "e3a5f3d3",
   "metadata": {},
   "outputs": [],
   "source": [
    "new_hdddf = hdddf.drop_duplicates()"
   ]
  },
  {
   "cell_type": "code",
   "execution_count": 118,
   "id": "88f917b4",
   "metadata": {},
   "outputs": [
    {
     "name": "stdout",
     "output_type": "stream",
     "text": [
      "N nan cols: 0\n",
      "Series([], dtype: float64)\n"
     ]
    },
    {
     "data": {
      "image/png": "[encoded data removed]",
      "text/plain": [
       "<Figure size 1000x600 with 1 Axes>"
      ]
     },
     "metadata": {},
     "output_type": "display_data"
    }
   ],
   "source": [
    "ckna(new_hdddf)"
   ]
  },
  {
   "cell_type": "code",
   "execution_count": 119,
   "id": "9a30e2fa",
   "metadata": {},
   "outputs": [
    {
     "data": {
      "text/html": [
       "<div>\n",
       "<style scoped>\n",
       "    .dataframe tbody tr th:only-of-type {\n",
       "        vertical-align: middle;\n",
       "    }\n",
       "\n",
       "    .dataframe tbody tr th {\n",
       "        vertical-align: top;\n",
       "    }\n",
       "\n",
       "    .dataframe thead th {\n",
       "        text-align: right;\n",
       "    }\n",
       "</style>\n",
       "<table border=\"1\" class=\"dataframe\">\n",
       "  <thead>\n",
       "    <tr style=\"text-align: right;\">\n",
       "      <th></th>\n",
       "      <th>name</th>\n",
       "      <th>last_name</th>\n",
       "      <th>first_name</th>\n",
       "      <th>title</th>\n",
       "      <th>release_year</th>\n",
       "      <th>category_id</th>\n",
       "      <th>actor_id</th>\n",
       "      <th>lang_id</th>\n",
       "      <th>film_id</th>\n",
       "    </tr>\n",
       "  </thead>\n",
       "  <tbody>\n",
       "    <tr>\n",
       "      <th>0</th>\n",
       "      <td>PENELOPE GUINESS</td>\n",
       "      <td>GUINESS</td>\n",
       "      <td>PENELOPE</td>\n",
       "      <td>ACADEMY DINOSAUR</td>\n",
       "      <td>2006</td>\n",
       "      <td>6</td>\n",
       "      <td>1</td>\n",
       "      <td>1</td>\n",
       "      <td>1</td>\n",
       "    </tr>\n",
       "    <tr>\n",
       "      <th>1</th>\n",
       "      <td>PENELOPE GUINESS</td>\n",
       "      <td>GUINESS</td>\n",
       "      <td>PENELOPE</td>\n",
       "      <td>ANACONDA CONFESSIONS</td>\n",
       "      <td>2006</td>\n",
       "      <td>2</td>\n",
       "      <td>1</td>\n",
       "      <td>1</td>\n",
       "      <td>23</td>\n",
       "    </tr>\n",
       "    <tr>\n",
       "      <th>2</th>\n",
       "      <td>PENELOPE GUINESS</td>\n",
       "      <td>GUINESS</td>\n",
       "      <td>PENELOPE</td>\n",
       "      <td>ANGELS LIFE</td>\n",
       "      <td>2006</td>\n",
       "      <td>13</td>\n",
       "      <td>1</td>\n",
       "      <td>1</td>\n",
       "      <td>25</td>\n",
       "    </tr>\n",
       "    <tr>\n",
       "      <th>3</th>\n",
       "      <td>PENELOPE GUINESS</td>\n",
       "      <td>GUINESS</td>\n",
       "      <td>PENELOPE</td>\n",
       "      <td>BULWORTH COMMANDMENTS</td>\n",
       "      <td>2006</td>\n",
       "      <td>10</td>\n",
       "      <td>1</td>\n",
       "      <td>1</td>\n",
       "      <td>106</td>\n",
       "    </tr>\n",
       "    <tr>\n",
       "      <th>4</th>\n",
       "      <td>PENELOPE GUINESS</td>\n",
       "      <td>GUINESS</td>\n",
       "      <td>PENELOPE</td>\n",
       "      <td>CHEAPER CLYDE</td>\n",
       "      <td>2006</td>\n",
       "      <td>14</td>\n",
       "      <td>1</td>\n",
       "      <td>1</td>\n",
       "      <td>140</td>\n",
       "    </tr>\n",
       "  </tbody>\n",
       "</table>\n",
       "</div>"
      ],
      "text/plain": [
       "               name last_name first_name                  title  release_year  \\\n",
       "0  PENELOPE GUINESS   GUINESS   PENELOPE       ACADEMY DINOSAUR          2006   \n",
       "1  PENELOPE GUINESS   GUINESS   PENELOPE   ANACONDA CONFESSIONS          2006   \n",
       "2  PENELOPE GUINESS   GUINESS   PENELOPE            ANGELS LIFE          2006   \n",
       "3  PENELOPE GUINESS   GUINESS   PENELOPE  BULWORTH COMMANDMENTS          2006   \n",
       "4  PENELOPE GUINESS   GUINESS   PENELOPE          CHEAPER CLYDE          2006   \n",
       "\n",
       "   category_id  actor_id  lang_id  film_id  \n",
       "0            6         1        1        1  \n",
       "1            2         1        1       23  \n",
       "2           13         1        1       25  \n",
       "3           10         1        1      106  \n",
       "4           14         1        1      140  "
      ]
     },
     "execution_count": 119,
     "metadata": {},
     "output_type": "execute_result"
    }
   ],
   "source": [
    "new_hdddf.head()"
   ]
  },
  {
   "cell_type": "markdown",
   "id": "9f7d6983",
   "metadata": {},
   "source": [
    "Let's have a look at the rental table before creating our customer, store and staff tables."
   ]
  },
  {
   "cell_type": "code",
   "execution_count": null,
   "id": "d278e62d",
   "metadata": {},
   "outputs": [],
   "source": [
    "rentdf.head()"
   ]
  },
  {
   "cell_type": "markdown",
   "id": "a469de29",
   "metadata": {},
   "source": [
    "As we can see, there is a rentalID which gives us a code to retrieve, a rental date and a return date, the inventoryID to see the direct copy of the movie the customer took home, the customer who took it and the last time it was updated.\n",
    "\n",
    "This table works as an invoice for any other store, you have the client, the product, the when, where and who assisted. It could be cool if this table could help to check whose client are more or less inclined to return the movies late. Let's say for the shake of it, that we have a return policy or 3 days. Anybody who returns the movie after those first three days would be late and therefore can be labeled as such."
   ]
  },
  {
   "cell_type": "code",
   "execution_count": null,
   "id": "fd8906e5",
   "metadata": {},
   "outputs": [],
   "source": [
    "rentdf = rentdf.reindex(columns=['rental_id', 'inventory_id', 'customer_id', 'staff_id','rental_date','return_date','last_update'])\n",
    "rentdf.head()\n"
   ]
  },
  {
   "cell_type": "code",
   "execution_count": null,
   "id": "c6093d39",
   "metadata": {},
   "outputs": [],
   "source": [
    "rentdf['rental_date'] = pd.to_datetime(rentdf['rental_date'])\n",
    "rentdf['return_date'] = pd.to_datetime(rentdf['return_date'])\n"
   ]
  },
  {
   "cell_type": "code",
   "execution_count": null,
   "id": "21940aa0",
   "metadata": {},
   "outputs": [],
   "source": [
    "rentdf['rental_time'] = rentdf.rental_date.dt.time\n",
    "rentdf['rental_date'] = rentdf.rental_date.dt.date\n",
    "rentdf.head()"
   ]
  },
  {
   "cell_type": "code",
   "execution_count": null,
   "id": "25c02cac",
   "metadata": {},
   "outputs": [],
   "source": [
    "rentdf['return_time'] = rentdf.return_date.dt.time\n",
    "rentdf['return_date'] = rentdf.return_date.dt.date\n",
    "rentdf.head()"
   ]
  },
  {
   "cell_type": "code",
   "execution_count": null,
   "id": "617cca4b",
   "metadata": {},
   "outputs": [],
   "source": [
    "rentdf = rentdf.reindex(columns=['rental_id', 'inventory_id', 'customer_id', 'staff_id','rental_date','rental_time','return_date','return_time','last_update'])\n",
    "rentdf.head()"
   ]
  },
  {
   "cell_type": "markdown",
   "id": "772a2155",
   "metadata": {},
   "source": [
    "There is something bothering me here. If you check the inventory_id, it looks quite odd the fact that you have id numbers over 1000 when we already checked the inventory files and it only has about a thousand inventory IDs. I think this must be wrong and for the shake of the exercise I am going to change those in order to match the inventory table."
   ]
  },
  {
   "cell_type": "code",
   "execution_count": null,
   "id": "15ea278c",
   "metadata": {},
   "outputs": [],
   "source": [
    "import random\n",
    "def inventory_change(inventoryID):\n",
    "    return random.randint(1,1000)\n",
    "    "
   ]
  },
  {
   "cell_type": "code",
   "execution_count": null,
   "id": "92365081",
   "metadata": {},
   "outputs": [],
   "source": [
    "rentdf['inventory_id'] = rentdf.inventory_id.apply(inventory_change)\n",
    "rentdf.head()"
   ]
  },
  {
   "cell_type": "markdown",
   "id": "aa28c734",
   "metadata": {},
   "source": [
    "And I am going to do the same with the customers ID column. I will create later on the tables relating to the customers, staff and stores but I can start limiting the amount of customers I have between the two stores by a 100."
   ]
  },
  {
   "cell_type": "code",
   "execution_count": null,
   "id": "06abfad3",
   "metadata": {},
   "outputs": [],
   "source": [
    "def customer_change(customerID):\n",
    "    return random.randint(1,100)"
   ]
  },
  {
   "cell_type": "code",
   "execution_count": null,
   "id": "c1dc1221",
   "metadata": {},
   "outputs": [],
   "source": [
    "rentdf['customer_id'] = rentdf.inventory_id.apply(customer_change)\n",
    "rentdf.head()"
   ]
  },
  {
   "cell_type": "code",
   "execution_count": null,
   "id": "b05049a4",
   "metadata": {},
   "outputs": [],
   "source": [
    "rentdf.shape"
   ]
  },
  {
   "cell_type": "code",
   "execution_count": null,
   "id": "8c677e6d",
   "metadata": {},
   "outputs": [],
   "source": [
    "new_rentdf = rentdf.drop_duplicates()"
   ]
  },
  {
   "cell_type": "markdown",
   "id": "19ac2915",
   "metadata": {},
   "source": [
    "My rental table is complete, so now the last things to do are to create the tables regarding: clients, staff and stores.\n",
    "\n",
    "I am going to start with the stores table, it is the simplest out of the three and also it is good as practice."
   ]
  },
  {
   "cell_type": "code",
   "execution_count": null,
   "id": "ab8b3033",
   "metadata": {},
   "outputs": [],
   "source": [
    "stores={'Store_ID': [1,2], 'Address': ['C/ de Hortaleza, 69, 28004 Madrid','C/ de García de Paredes, 33, 28010 Madrid'], 'Phone':[666666666,888888888], 'email':['8filmshortaleza@8films.com','8filmsparedes@8films.com']}\n",
    "\n",
    "storesdf = pd.DataFrame(stores)\n",
    "storesdf.head()"
   ]
  },
  {
   "cell_type": "markdown",
   "id": "9d8afa94",
   "metadata": {},
   "source": [
    "It looks ok and for now, this will help to create a new link in our database. \n",
    "\n",
    "Let's continue with the tables regarding staff and customers. For the staff I am only going to hire 4 people, 2 for each store. And for that I am going to use a library that some colleagues have found: Faker."
   ]
  },
  {
   "cell_type": "code",
   "execution_count": null,
   "id": "32110d2d",
   "metadata": {},
   "outputs": [],
   "source": [
    "from faker import Faker"
   ]
  },
  {
   "cell_type": "code",
   "execution_count": null,
   "id": "4c5b4711",
   "metadata": {},
   "outputs": [],
   "source": [
    "def random_staff(num_staff):\n",
    "    fake = Faker()\n",
    "    domain = \"8films.com\"\n",
    "    staff = []\n",
    "\n",
    "    \n",
    "    for i in range(num_staff):\n",
    "        staff_id = i\n",
    "        full_name = fake.name()\n",
    "        surname, name = full_name.split(\" \")\n",
    "        address = fake.address()\n",
    "        phone = fake.phone_number()\n",
    "        email = f\"{name.replace(' ', '.')}@{domain}\"\n",
    "        staff.append({\"staff_id\": staff_id, \"name\": name, \"surname\": surname, \"address\": address, \"phone\": phone, \"email\": email})\n",
    "    \n",
    "    return staff\n",
    "\n",
    "staff = random_staff(4)\n",
    "\n",
    "staff"
   ]
  },
  {
   "cell_type": "code",
   "execution_count": null,
   "id": "4adf5043",
   "metadata": {},
   "outputs": [],
   "source": [
    "staffdf = pd.DataFrame(staff)\n",
    "staffdf"
   ]
  },
  {
   "cell_type": "markdown",
   "id": "966788e3",
   "metadata": {},
   "source": [
    "And here we have our amazingly willing staff members.\n",
    "\n",
    "Lets get some clients, shall we?"
   ]
  },
  {
   "cell_type": "code",
   "execution_count": null,
   "id": "fd6c2e89",
   "metadata": {},
   "outputs": [],
   "source": [
    "def random_customers(num_customers):\n",
    "    fake = Faker()\n",
    "    domain = \"gmail.com\"\n",
    "    customers = []\n",
    "    \n",
    "    for i in range(num_customers):\n",
    "        id = i\n",
    "        full_name = fake.name()\n",
    "        address = fake.address()\n",
    "        phone = fake.phone_number()\n",
    "        email = f\"{full_name.replace(' ', '.')}@{domain}\"\n",
    "        customers.append({\"customer_id\": id, \"name\": full_name, \"address\": address, \"phone\": phone, \"email\": email})\n",
    "    \n",
    "    return customers\n",
    "\n",
    "customers = random_customers(100)"
   ]
  },
  {
   "cell_type": "code",
   "execution_count": null,
   "id": "99976e6a",
   "metadata": {},
   "outputs": [],
   "source": [
    "customersdf = pd.DataFrame(customers)\n",
    "customersdf.head()"
   ]
  },
  {
   "cell_type": "markdown",
   "id": "4fd3b42e",
   "metadata": {},
   "source": [
    "Now we can export our new tables one by one and import those into MySQL Workbench."
   ]
  },
  {
   "cell_type": "code",
   "execution_count": 17,
   "id": "d86789ac",
   "metadata": {},
   "outputs": [],
   "source": [
    "new_acdf.to_csv('../DATA/CLEAN/clean_actors.csv')"
   ]
  },
  {
   "cell_type": "code",
   "execution_count": null,
   "id": "c911110b",
   "metadata": {},
   "outputs": [],
   "source": [
    "new_catdf.to_csv('../DATA/CLEAN/clean_catalogue.csv')"
   ]
  },
  {
   "cell_type": "code",
   "execution_count": null,
   "id": "4ecdccab",
   "metadata": {},
   "outputs": [],
   "source": [
    "newlangdf.to_csv('../DATA/CLEAN/clean_language.csv')"
   ]
  },
  {
   "cell_type": "code",
   "execution_count": null,
   "id": "238842bf",
   "metadata": {},
   "outputs": [],
   "source": [
    "newinventorydf.to_csv('../DATA/CLEAN/clean_inventory.csv')"
   ]
  },
  {
   "cell_type": "code",
   "execution_count": 120,
   "id": "e63e3438",
   "metadata": {},
   "outputs": [],
   "source": [
    "new_hdddf.to_csv('../DATA/CLEAN/clean_hdddf.csv')"
   ]
  },
  {
   "cell_type": "code",
   "execution_count": null,
   "id": "35f116cd",
   "metadata": {},
   "outputs": [],
   "source": [
    "new_filmsdf.to_csv('../DATA/CLEAN/clean_films.csv')"
   ]
  },
  {
   "cell_type": "code",
   "execution_count": null,
   "id": "547051d8",
   "metadata": {},
   "outputs": [],
   "source": [
    "new_rentdf.to_csv('../DATA/CLEAN/clean_rental.csv')"
   ]
  },
  {
   "cell_type": "code",
   "execution_count": null,
   "id": "fcbe47a6",
   "metadata": {},
   "outputs": [],
   "source": [
    "storesdf.to_csv('../DATA/CLEAN/clean_stores.csv')"
   ]
  },
  {
   "cell_type": "code",
   "execution_count": null,
   "id": "7dceea9f",
   "metadata": {},
   "outputs": [],
   "source": [
    "staffdf.to_csv('../DATA/CLEAN/clean_staff.csv')"
   ]
  },
  {
   "cell_type": "code",
   "execution_count": null,
   "id": "1f539185",
   "metadata": {},
   "outputs": [],
   "source": [
    "customersdf.to_csv('../DATA/CLEAN/clean_customers.csv')"
   ]
  },
  {
   "cell_type": "code",
   "execution_count": null,
   "id": "f512267f",
   "metadata": {},
   "outputs": [],
   "source": []
  }
 ],
 "metadata": {
  "kernelspec": {
   "display_name": "clase",
   "language": "python",
   "name": "python3"
  },
  "language_info": {
   "codemirror_mode": {
    "name": "ipython",
    "version": 3
   },
   "file_extension": ".py",
   "mimetype": "text/x-python",
   "name": "python",
   "nbconvert_exporter": "python",
   "pygments_lexer": "ipython3",
   "version": "3.10.13"
  }
 },
 "nbformat": 4,
 "nbformat_minor": 5
}
